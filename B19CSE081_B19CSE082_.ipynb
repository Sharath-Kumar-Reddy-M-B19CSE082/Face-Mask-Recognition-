{
 "cells": [
  {
   "cell_type": "markdown",
   "metadata": {
    "id": "_fgrAxT6RlHD",
    "slideshow": {
     "slide_type": "slide"
    }
   },
   "source": [
    "## Mounting drive"
   ]
  },
  {
   "cell_type": "code",
   "execution_count": 2,
   "metadata": {
    "colab": {
     "base_uri": "https://localhost:8080/"
    },
    "id": "PJxfRD3tPfam",
    "outputId": "11535e45-f784-4ca1-c8f6-3a9f000f34e5",
    "slideshow": {
     "slide_type": "subslide"
    }
   },
   "outputs": [
    {
     "name": "stdout",
     "output_type": "stream",
     "text": [
      "Mounted at /content/drive\n"
     ]
    }
   ],
   "source": [
    "from google.colab import drive\n",
    "drive.mount('/content/drive')"
   ]
  },
  {
   "cell_type": "markdown",
   "metadata": {
    "id": "kL2oNG1sP06E",
    "slideshow": {
     "slide_type": "slide"
    }
   },
   "source": [
    "## Importing libraries"
   ]
  },
  {
   "cell_type": "code",
   "execution_count": 41,
   "metadata": {
    "ExecuteTime": {
     "end_time": "2021-05-20T17:47:06.308116Z",
     "start_time": "2021-05-20T17:47:06.302113Z"
    },
    "id": "Fza1F6mlARpn",
    "slideshow": {
     "slide_type": "subslide"
    }
   },
   "outputs": [],
   "source": [
    "import pandas as pd\n",
    "import numpy as np\n",
    "import matplotlib.pyplot as plt\n",
    "import seaborn as sns\n",
    "import cv2\n",
    "import glob"
   ]
  },
  {
   "cell_type": "code",
   "execution_count": 42,
   "metadata": {
    "ExecuteTime": {
     "end_time": "2021-05-20T17:47:09.676459Z",
     "start_time": "2021-05-20T17:47:09.670417Z"
    },
    "slideshow": {
     "slide_type": "skip"
    }
   },
   "outputs": [],
   "source": [
    "from jupyterthemes import jtplot\n",
    "jtplot.style(theme='monokai', context='notebook', ticks=True, grid=False)"
   ]
  },
  {
   "cell_type": "markdown",
   "metadata": {
    "heading_collapsed": true,
    "id": "Ydht9tUIP3jG",
    "slideshow": {
     "slide_type": "slide"
    }
   },
   "source": [
    "## Unzipping folders"
   ]
  },
  {
   "cell_type": "code",
   "execution_count": 4,
   "metadata": {
    "colab": {
     "base_uri": "https://localhost:8080/"
    },
    "hidden": true,
    "id": "k9UXDkwKAmjs",
    "outputId": "69696d4c-9916-49c2-a824-90d55a1b752e",
    "slideshow": {
     "slide_type": "subslide"
    }
   },
   "outputs": [
    {
     "name": "stdout",
     "output_type": "stream",
     "text": [
      "Archive:  /content/drive/MyDrive/face-mask-dataset.zip\n",
      "  inflating: Dataset/test.zip        \n",
      "  inflating: Dataset/train.zip       \n"
     ]
    }
   ],
   "source": [
    "!unzip /content/drive/MyDrive/face-mask-dataset.zip"
   ]
  },
  {
   "cell_type": "code",
   "execution_count": 5,
   "metadata": {
    "colab": {
     "base_uri": "https://localhost:8080/"
    },
    "hidden": true,
    "id": "Xdj6W6HuA7Il",
    "outputId": "f22008c4-14d4-494e-d298-dd3106c4f6bd",
    "slideshow": {
     "slide_type": "subslide"
    }
   },
   "outputs": [
    {
     "name": "stdout",
     "output_type": "stream",
     "text": [
      "Archive:  /content/Dataset/train.zip\n",
      "   creating: train/\n",
      "   creating: train/with_mask/\n",
      "  inflating: train/with_mask/-110603108-gettyimages-533567012.jpg  \n",
      "  inflating: train/with_mask/-110695084-mask2.jpg  \n",
      "  inflating: train/with_mask/0-with-mask.jpg  \n",
      "  inflating: train/with_mask/0000305-62360-halyard-health-pfr-p3-respirator-face-mask-ffp.jpeg  \n",
      "  inflating: train/with_mask/0000444-48296-halyard-health-surgical-mask-teddy-bear-print.jpeg  \n",
      "  inflating: train/with_mask/007563.jpg  \n",
      "  inflating: train/with_mask/0779db20580fc7b054ad6b1b7bd9fb35.jpeg  \n",
      "  inflating: train/with_mask/1-respirator-mask.jpg  \n",
      "  inflating: train/with_mask/10-with-mask.jpg  \n",
      "  inflating: train/with_mask/100-with-mask.jpg  \n",
      "  inflating: train/with_mask/101-with-mask.jpg  \n",
      "  inflating: train/with_mask/103-with-mask.jpg  \n",
      "  inflating: train/with_mask/104-with-mask.jpg  \n",
      "  inflating: train/with_mask/105-with-mask.jpg  \n",
      "  inflating: train/with_mask/106.jpg  \n",
      "  inflating: train/with_mask/107-with-mask.jpg  \n",
      "  inflating: train/with_mask/108-with-mask.jpg  \n",
      "  inflating: train/with_mask/109-with-mask.jpg  \n",
      "  inflating: train/with_mask/10Pcs-pack-Disposable-Non-Woven-Black-Face-Mask-Earloop-Anti.jpg  \n",
      "  inflating: train/with_mask/112-with-mask.jpg  \n",
      "  inflating: train/with_mask/113-with-mask.jpg  \n",
      "  inflating: train/with_mask/115-with-mask.jpg  \n",
      "  inflating: train/with_mask/116-with-mask.jpg  \n",
      "  inflating: train/with_mask/117-with-mask.jpg  \n",
      "  inflating: train/with_mask/118-with-mask.jpg  \n",
      "  inflating: train/with_mask/119-with-mask.jpg  \n",
      "  inflating: train/with_mask/12-with-mask.jpg  \n",
      "  inflating: train/with_mask/120-with-mask.jpg  \n",
      "  inflating: train/with_mask/122-with-mask.jpg  \n",
      "  inflating: train/with_mask/123-with-mask.jpg  \n",
      "  inflating: train/with_mask/124-with-mask.jpg  \n",
      "  inflating: train/with_mask/125-with-mask.jpg  \n",
      "  inflating: train/with_mask/126-with-mask.jpg  \n",
      "  inflating: train/with_mask/128-with-mask.jpg  \n",
      "  inflating: train/with_mask/129-with-mask.jpg  \n",
      "  inflating: train/with_mask/13-with-mask.jpg  \n",
      "  inflating: train/with_mask/131-with-mask.jpg  \n",
      "  inflating: train/with_mask/132-with-mask.jpg  \n",
      "  inflating: train/with_mask/133-with-mask.jpg  \n",
      "  inflating: train/with_mask/134-with-mask.jpg  \n",
      "  inflating: train/with_mask/135-with-mask.jpg  \n",
      "  inflating: train/with_mask/136-with-mask.jpg  \n",
      "  inflating: train/with_mask/137-with-mask.jpg  \n",
      "  inflating: train/with_mask/138-with-mask.jpg  \n",
      "  inflating: train/with_mask/139-with-mask.jpg  \n",
      "  inflating: train/with_mask/14-with-mask.jpg  \n",
      "  inflating: train/with_mask/140-with-mask.jpg  \n",
      "  inflating: train/with_mask/143-with-mask.jpg  \n",
      "  inflating: train/with_mask/144-with-mask.jpg  \n",
      "  inflating: train/with_mask/147-with-mask.jpg  \n",
      "  inflating: train/with_mask/148-with-mask.jpg  \n",
      "  inflating: train/with_mask/15-with-mask.jpg  \n",
      "  inflating: train/with_mask/150-with-mask.jpg  \n",
      "  inflating: train/with_mask/151-with-mask.jpg  \n",
      "  inflating: train/with_mask/152-with-mask.jpg  \n",
      "  inflating: train/with_mask/153-with-mask.jpg  \n",
      "  inflating: train/with_mask/154-with-mask.jpg  \n",
      "  inflating: train/with_mask/155-with-mask.jpg  \n",
      "  inflating: train/with_mask/156-with-mask.jpg  \n",
      "  inflating: train/with_mask/158-with-mask.jpg  \n",
      "  inflating: train/with_mask/159-with-mask.jpg  \n",
      "  inflating: train/with_mask/16-with-mask.jpg  \n",
      "  inflating: train/with_mask/161-with-mask.jpg  \n",
      "  inflating: train/with_mask/162-with-mask.jpg  \n",
      "  inflating: train/with_mask/163-with-mask.jpg  \n",
      "  inflating: train/with_mask/168-with-mask.jpg  \n",
      "  inflating: train/with_mask/169-with-mask.jpg  \n",
      "  inflating: train/with_mask/17-with-mask.jpg  \n",
      "  inflating: train/with_mask/170-with-mask.jpg  \n",
      "  inflating: train/with_mask/171-with-mask.jpg  \n",
      "  inflating: train/with_mask/172-with-mask.jpg  \n",
      "  inflating: train/with_mask/173-with-mask.jpg  \n",
      "  inflating: train/with_mask/175-with-mask.jpg  \n",
      "  inflating: train/with_mask/176-with-mask.jpg  \n",
      "  inflating: train/with_mask/177-with-mask.jpg  \n",
      "  inflating: train/with_mask/179-with-mask.jpg  \n",
      "  inflating: train/with_mask/18-with-mask.jpg  \n",
      "  inflating: train/with_mask/180-with-mask.jpg  \n",
      "  inflating: train/with_mask/182-with-mask.jpg  \n",
      "  inflating: train/with_mask/183-with-mask.jpg  \n",
      "  inflating: train/with_mask/185-with-mask.jpg  \n",
      "  inflating: train/with_mask/187-with-mask.jpg  \n",
      "  inflating: train/with_mask/189-with-mask.jpg  \n",
      "  inflating: train/with_mask/19-with-mask.jpg  \n",
      "  inflating: train/with_mask/190-with-mask.jpg  \n",
      "  inflating: train/with_mask/192-with-mask.jpg  \n",
      "  inflating: train/with_mask/194-with-mask.jpg  \n",
      "  inflating: train/with_mask/195-with-mask.jpg  \n",
      "  inflating: train/with_mask/196-with-mask.jpg  \n",
      "  inflating: train/with_mask/197-with-mask.jpg  \n",
      "  inflating: train/with_mask/198-with-mask.jpg  \n",
      "  inflating: train/with_mask/1lvl-1-surgical-mask-white-41805-front-copy.jpg  \n",
      "  inflating: train/with_mask/2-with-mask.jpg  \n",
      "  inflating: train/with_mask/200-with-mask.jpg  \n",
      "  inflating: train/with_mask/202-with-mask.jpg  \n",
      "  inflating: train/with_mask/203-with-mask.jpg  \n",
      "  inflating: train/with_mask/205-with-mask.jpg  \n",
      "  inflating: train/with_mask/206-with-mask.jpg  \n",
      "  inflating: train/with_mask/209-with-mask.jpg  \n",
      "  inflating: train/with_mask/21-with-mask.jpg  \n",
      "  inflating: train/with_mask/212-with-mask.jpg  \n",
      "  inflating: train/with_mask/214-with-mask.jpg  \n",
      "  inflating: train/with_mask/215-with-mask.jpg  \n",
      "  inflating: train/with_mask/217-with-mask.jpg  \n",
      "  inflating: train/with_mask/218-with-mask.jpg  \n",
      "  inflating: train/with_mask/221-with-mask.jpg  \n",
      "  inflating: train/with_mask/222-with-mask.jpg  \n",
      "  inflating: train/with_mask/223-with-mask.jpg  \n",
      "  inflating: train/with_mask/224-with-mask.jpg  \n",
      "  inflating: train/with_mask/225-with-mask.jpg  \n",
      "  inflating: train/with_mask/226-with-mask.jpg  \n",
      "  inflating: train/with_mask/227-with-mask.jpg  \n",
      "  inflating: train/with_mask/228-with-mask.jpg  \n",
      "  inflating: train/with_mask/231-with-mask.jpg  \n",
      "  inflating: train/with_mask/232-with-mask.jpg  \n",
      "  inflating: train/with_mask/233-with-mask.jpg  \n",
      "  inflating: train/with_mask/234-with-mask.jpg  \n",
      "  inflating: train/with_mask/235-with-mask.jpg  \n",
      "  inflating: train/with_mask/236-with-mask.jpg  \n",
      "  inflating: train/with_mask/237-with-mask.jpg  \n",
      "  inflating: train/with_mask/238-with-mask.jpg  \n",
      "  inflating: train/with_mask/239-with-mask.jpg  \n",
      "  inflating: train/with_mask/24-with-mask.jpg  \n",
      "  inflating: train/with_mask/240-with-mask.jpg  \n",
      "  inflating: train/with_mask/241-with-mask.jpg  \n",
      "  inflating: train/with_mask/242-with-mask.jpg  \n",
      "  inflating: train/with_mask/245-with-mask.jpg  \n",
      "  inflating: train/with_mask/246-with-mask.jpg  \n",
      "  inflating: train/with_mask/251-with-mask.jpg  \n",
      "  inflating: train/with_mask/252-with-mask.jpg  \n",
      "  inflating: train/with_mask/253-with-mask.jpg  \n",
      "  inflating: train/with_mask/254-with-mask.jpg  \n",
      "  inflating: train/with_mask/255-with-mask.jpg  \n",
      "  inflating: train/with_mask/256-with-mask.jpg  \n",
      "  inflating: train/with_mask/257-with-mask.jpg  \n",
      "  inflating: train/with_mask/259-with-mask.jpg  \n",
      "  inflating: train/with_mask/25a0bb7104f6291c2737cdbe3e1a1671.jpg  \n",
      "  inflating: train/with_mask/260-with-mask.jpg  \n",
      "  inflating: train/with_mask/261-with-mask.jpg  \n",
      "  inflating: train/with_mask/263-with-mask.jpg  \n",
      "  inflating: train/with_mask/267-with-mask.jpg  \n",
      "  inflating: train/with_mask/269-with-mask.jpg  \n",
      "  inflating: train/with_mask/27-with-mask.jpg  \n",
      "  inflating: train/with_mask/270-with-mask.jpg  \n",
      "  inflating: train/with_mask/272-with-mask.jpg  \n",
      "  inflating: train/with_mask/273-with-mask.jpg  \n",
      "  inflating: train/with_mask/274-with-mask.jpg  \n",
      "  inflating: train/with_mask/275-with-mask.jpg  \n",
      "  inflating: train/with_mask/276-with-mask.jpg  \n",
      "  inflating: train/with_mask/277-with-mask.jpg  \n",
      "  inflating: train/with_mask/279-with-mask.jpg  \n",
      "  inflating: train/with_mask/281-with-mask.jpg  \n",
      "  inflating: train/with_mask/282-with-mask.jpg  \n",
      "  inflating: train/with_mask/284-with-mask.jpg  \n",
      "  inflating: train/with_mask/286-with-mask.jpg  \n",
      "  inflating: train/with_mask/288-with-mask.jpg  \n",
      "  inflating: train/with_mask/289-with-mask.jpg  \n",
      "  inflating: train/with_mask/29-with-mask.jpg  \n",
      "  inflating: train/with_mask/290-with-mask.jpg  \n",
      "  inflating: train/with_mask/291-with-mask.jpg  \n",
      "  inflating: train/with_mask/293-with-mask.jpg  \n",
      "  inflating: train/with_mask/294-with-mask.jpg  \n",
      "  inflating: train/with_mask/296-with-mask.jpg  \n",
      "  inflating: train/with_mask/297-with-mask.jpg  \n",
      "  inflating: train/with_mask/298-with-mask.jpg  \n",
      "  inflating: train/with_mask/299-with-mask.jpg  \n",
      "  inflating: train/with_mask/2ca869fa7b11fae2a0b15e83c318a164.jpg  \n",
      "  inflating: train/with_mask/3-ply-tie-on-surgical-mask-yellow-500x500.jpg  \n",
      "  inflating: train/with_mask/3-with-mask.jpg  \n",
      "  inflating: train/with_mask/301-with-mask.jpg  \n",
      "  inflating: train/with_mask/302-with-mask.jpg  \n",
      "  inflating: train/with_mask/304-with-mask.jpg  \n",
      "  inflating: train/with_mask/305-with-mask.jpg  \n",
      "  inflating: train/with_mask/309-with-mask.jpg  \n",
      "  inflating: train/with_mask/31-with-mask.jpg  \n",
      "  inflating: train/with_mask/311-with-mask.jpg  \n",
      "  inflating: train/with_mask/313-with-mask.jpg  \n",
      "  inflating: train/with_mask/314-with-mask.jpg  \n",
      "  inflating: train/with_mask/315-with-mask.jpg  \n",
      "  inflating: train/with_mask/316wzaj8NKL.jpg  \n",
      "  inflating: train/with_mask/32-with-mask.jpg  \n",
      "  inflating: train/with_mask/322-with-mask.jpg  \n",
      "  inflating: train/with_mask/323-with-mask.jpg  \n",
      "  inflating: train/with_mask/324-with-mask.jpg  \n",
      "  inflating: train/with_mask/327-with-mask.jpg  \n",
      "  inflating: train/with_mask/33-with-mask.jpg  \n",
      "  inflating: train/with_mask/330-with-mask.jpg  \n",
      "  inflating: train/with_mask/331-with-mask.jpg  \n",
      "  inflating: train/with_mask/333-with-mask.jpg  \n",
      "  inflating: train/with_mask/334-with-mask.jpg  \n",
      "  inflating: train/with_mask/335-with-mask.jpg  \n",
      "  inflating: train/with_mask/336-with-mask.jpg  \n",
      "  inflating: train/with_mask/338-with-mask.jpg  \n",
      "  inflating: train/with_mask/339-with-mask.jpg  \n",
      "  inflating: train/with_mask/343-with-mask.jpg  \n",
      "  inflating: train/with_mask/346-with-mask.jpg  \n",
      "  inflating: train/with_mask/347-with-mask.jpg  \n",
      "  inflating: train/with_mask/348-with-mask.jpg  \n",
      "  inflating: train/with_mask/349-with-mask.jpg  \n",
      "  inflating: train/with_mask/35-with-mask.jpg  \n",
      "  inflating: train/with_mask/351-with-mask.jpg  \n",
      "  inflating: train/with_mask/353-with-mask.jpg  \n",
      "  inflating: train/with_mask/355-with-mask.jpg  \n",
      "  inflating: train/with_mask/356-with-mask.jpg  \n",
      "  inflating: train/with_mask/358-with-mask.jpg  \n",
      "  inflating: train/with_mask/359-with-mask.jpg  \n",
      "  inflating: train/with_mask/364-with-mask.jpg  \n",
      "  inflating: train/with_mask/365-with-mask.jpg  \n",
      "  inflating: train/with_mask/366-with-mask.jpg  \n",
      "  inflating: train/with_mask/368-with-mask.jpg  \n",
      "  inflating: train/with_mask/37-with-mask.jpg  \n",
      "  inflating: train/with_mask/375-with-mask.jpg  \n",
      "  inflating: train/with_mask/376-with-mask.jpg  \n",
      "  inflating: train/with_mask/37636006-sick-little-girl-with-surgical-face-mask-for-bacter.jpg  \n",
      "  inflating: train/with_mask/377-with-mask.jpg  \n",
      "  inflating: train/with_mask/378-with-mask.jpg  \n",
      "  inflating: train/with_mask/379-with-mask.jpg  \n",
      "  inflating: train/with_mask/38-with-mask.jpg  \n",
      "  inflating: train/with_mask/381-with-mask.jpg  \n",
      "  inflating: train/with_mask/383-with-mask.jpg  \n",
      "  inflating: train/with_mask/384-with-mask.jpg  \n",
      "  inflating: train/with_mask/386-with-mask.jpg  \n",
      "  inflating: train/with_mask/387-with-mask.jpg  \n",
      "  inflating: train/with_mask/39-with-mask.jpg  \n",
      "  inflating: train/with_mask/390-with-mask.jpg  \n",
      "  inflating: train/with_mask/392-with-mask.jpg  \n",
      "  inflating: train/with_mask/393-with-mask.jpg  \n",
      "  inflating: train/with_mask/394-with-mask.jpg  \n",
      "  inflating: train/with_mask/395-with-mask.jpg  \n",
      "  inflating: train/with_mask/396-with-mask.jpg  \n",
      "  inflating: train/with_mask/397-with-mask.jpg  \n",
      "  inflating: train/with_mask/398-with-mask.jpg  \n",
      "  inflating: train/with_mask/399-with-mask.jpg  \n",
      "  inflating: train/with_mask/39a923aa.jpg  \n",
      "  inflating: train/with_mask/4-with-mask.jpg  \n",
      "  inflating: train/with_mask/40-with-mask.jpg  \n",
      "  inflating: train/with_mask/401-with-mask.jpg  \n",
      "  inflating: train/with_mask/405-with-mask.jpg  \n",
      "  inflating: train/with_mask/406-with-mask.jpg  \n",
      "  inflating: train/with_mask/407-with-mask.jpg  \n",
      "  inflating: train/with_mask/408-with-mask.jpg  \n",
      "  inflating: train/with_mask/41-with-mask.jpg  \n",
      "  inflating: train/with_mask/411-with-mask.jpg  \n",
      "  inflating: train/with_mask/413-with-mask.jpg  \n",
      "  inflating: train/with_mask/414-with-mask.jpg  \n",
      "  inflating: train/with_mask/415-with-mask.jpg  \n",
      "  inflating: train/with_mask/416-with-mask.jpg  \n",
      "  inflating: train/with_mask/417-with-mask.jpg  \n",
      "  inflating: train/with_mask/418-with-mask.jpg  \n",
      "  inflating: train/with_mask/419-with-mask.jpg  \n",
      "  inflating: train/with_mask/41yveM7kuVL--AC-.jpg  \n",
      "  inflating: train/with_mask/42-with-mask.jpg  \n",
      "  inflating: train/with_mask/420-with-mask.jpg  \n",
      "  inflating: train/with_mask/422-with-mask.jpg  \n",
      "  inflating: train/with_mask/424-with-mask.jpg  \n",
      "  inflating: train/with_mask/425-with-mask.jpg  \n",
      "  inflating: train/with_mask/426-with-mask.jpg  \n",
      "  inflating: train/with_mask/43-with-mask.jpg  \n",
      "  inflating: train/with_mask/431-with-mask.jpg  \n",
      "  inflating: train/with_mask/432-with-mask.jpg  \n",
      "  inflating: train/with_mask/434-with-mask.jpg  \n",
      "  inflating: train/with_mask/435-with-mask.jpg  \n",
      "  inflating: train/with_mask/436-with-mask.jpg  \n",
      "  inflating: train/with_mask/438-with-mask.jpg  \n",
      "  inflating: train/with_mask/439-with-mask.jpg  \n",
      "  inflating: train/with_mask/441-with-mask.jpg  \n",
      "  inflating: train/with_mask/442-with-mask.jpg  \n",
      "  inflating: train/with_mask/443-with-mask.jpg  \n",
      "  inflating: train/with_mask/445-with-mask.jpg  \n",
      "  inflating: train/with_mask/446-with-mask.jpg  \n",
      "  inflating: train/with_mask/447-with-mask.jpg  \n",
      "  inflating: train/with_mask/45-with-mask.jpg  \n",
      "  inflating: train/with_mask/4514-face-mask-with-shield.jpg  \n",
      "  inflating: train/with_mask/4517-face-mask-with-shield.jpg  \n",
      "  inflating: train/with_mask/453-with-mask.jpg  \n",
      "  inflating: train/with_mask/454-with-mask.jpg  \n",
      "  inflating: train/with_mask/455-with-mask.jpg  \n",
      "  inflating: train/with_mask/457-with-mask.jpg  \n",
      "  inflating: train/with_mask/458-with-mask.jpg  \n",
      "  inflating: train/with_mask/459-with-mask.jpg  \n",
      "  inflating: train/with_mask/46-with-mask.jpg  \n",
      "  inflating: train/with_mask/460-with-mask.jpg  \n",
      "  inflating: train/with_mask/461-with-mask.jpg  \n",
      "  inflating: train/with_mask/463-with-mask.jpg  \n",
      "  inflating: train/with_mask/466-with-mask.jpg  \n",
      "  inflating: train/with_mask/467-with-mask.jpg  \n",
      "  inflating: train/with_mask/47-with-mask.jpg  \n",
      "  inflating: train/with_mask/471-with-mask.jpg  \n",
      "  inflating: train/with_mask/473-with-mask.jpg  \n",
      "  inflating: train/with_mask/474-with-mask.jpg  \n",
      "  inflating: train/with_mask/475-with-mask.jpg  \n",
      "  inflating: train/with_mask/477-with-mask.jpg  \n",
      "  inflating: train/with_mask/478-with-mask.jpg  \n",
      "  inflating: train/with_mask/479-with-mask.jpg  \n",
      "  inflating: train/with_mask/481-with-mask.jpg  \n",
      "  inflating: train/with_mask/50-with-mask.jpg  \n",
      "  inflating: train/with_mask/5022193.jpg  \n",
      "  inflating: train/with_mask/51pLp2uev9L.jpg  \n",
      "  inflating: train/with_mask/52-with-mask.jpg  \n",
      "  inflating: train/with_mask/53-with-mask.jpg  \n",
      "  inflating: train/with_mask/56-with-mask.jpg  \n",
      "  inflating: train/with_mask/59-with-mask.jpg  \n",
      "  inflating: train/with_mask/6-with-mask.jpg  \n",
      "  inflating: train/with_mask/61-with-mask.jpg  \n",
      "  inflating: train/with_mask/619ZHLsp4ZL--SX342-.jpg  \n",
      "  inflating: train/with_mask/61XjbVDoxKL--AC-SL1500-.jpg  \n",
      "  inflating: train/with_mask/64-with-mask.jpg  \n",
      "  inflating: train/with_mask/65-with-mask.jpg  \n",
      "  inflating: train/with_mask/67-with-mask.jpg  \n",
      "  inflating: train/with_mask/68-with-mask.jpg  \n",
      "  inflating: train/with_mask/7-with-mask.jpg  \n",
      "  inflating: train/with_mask/70-with-mask.jpg  \n",
      "  inflating: train/with_mask/71-with-mask.jpg  \n",
      "  inflating: train/with_mask/71CETHshWPL--AC-SY679-.jpg  \n",
      "  inflating: train/with_mask/72-with-mask.jpg  \n",
      "  inflating: train/with_mask/74-with-mask.jpg  \n",
      "  inflating: train/with_mask/75-with-mask.jpg  \n",
      "  inflating: train/with_mask/76-with-mask.jpg  \n",
      "  inflating: train/with_mask/77-with-mask.jpg  \n",
      "  inflating: train/with_mask/79-with-mask.jpg  \n",
      "  inflating: train/with_mask/8-with-mask.jpg  \n",
      "  inflating: train/with_mask/80-with-mask.jpg  \n",
      "  inflating: train/with_mask/81-with-mask.jpg  \n",
      "  inflating: train/with_mask/82-with-mask.jpg  \n",
      "  inflating: train/with_mask/83-with-mask.jpg  \n",
      "  inflating: train/with_mask/86-with-mask.jpg  \n",
      "  inflating: train/with_mask/88-with-mask.jpg  \n",
      "  inflating: train/with_mask/89-with-mask.jpg  \n",
      "  inflating: train/with_mask/9-with-mask.jpg  \n",
      "  inflating: train/with_mask/92-with-mask.jpg  \n",
      "  inflating: train/with_mask/93-with-mask.jpg  \n",
      "  inflating: train/with_mask/94-with-mask.jpg  \n",
      "  inflating: train/with_mask/96-with-mask.jpg  \n",
      "  inflating: train/with_mask/97-with-mask.jpg  \n",
      "  inflating: train/with_mask/99-with-mask.jpg  \n",
      "  inflating: train/with_mask/A3600-2-info-1.jpg  \n",
      "  inflating: train/with_mask/Anti-Flu-Disposable-Face-Mask-Bfe-99-.jpg  \n",
      "  inflating: train/with_mask/Disposable-Ear-Loop-Face-Mask-Flu-Masks-Nose-Allergy-Dust-Ma.jpg  \n",
      "  inflating: train/with_mask/FLUIDSHIELD-N95-RESPIRATOR-REGULAR-PFR95-170-24511871.jpg  \n",
      " extracting: train/with_mask/FaceMasks--banner--GettyImages.jpg  \n",
      "  inflating: train/with_mask/Female-Face-Mask-732x549-thumbnail-1-732x549.jpg  \n",
      "  inflating: train/with_mask/Flu-Face-Mask-1.jpg  \n",
      "  inflating: train/with_mask/Fun-flu-prevention.jpg  \n",
      "  inflating: train/with_mask/HTB1hSsNjsuYBuNkSmRyq6AA3pXaR-jpg-350x350.jpg  \n",
      "  inflating: train/with_mask/HTB1jE7ILFXXXXaEXpXXq6xXFXXXd.jpg  \n",
      "  inflating: train/with_mask/J27ZvKVYpEW9BtXGFKFtj9-320-80.jpg  \n",
      "  inflating: train/with_mask/Surgical-Mask-for-Flu.jpg  \n",
      "  inflating: train/with_mask/Surgical-mask-and-eyeglasses.jpg  \n",
      "  inflating: train/with_mask/aa1f774600fe12ea1418a58019848cf5.jpg  \n",
      "  inflating: train/with_mask/ab-mask-040220.jpg  \n",
      "  inflating: train/with_mask/augmented_image_0.jpg  \n",
      "  inflating: train/with_mask/augmented_image_1.jpg  \n",
      "  inflating: train/with_mask/augmented_image_10.jpg  \n",
      "  inflating: train/with_mask/augmented_image_100.jpg  \n",
      "  inflating: train/with_mask/augmented_image_101.jpg  \n",
      "  inflating: train/with_mask/augmented_image_102.jpg  \n",
      "  inflating: train/with_mask/augmented_image_103.jpg  \n",
      "  inflating: train/with_mask/augmented_image_104.jpg  \n",
      "  inflating: train/with_mask/augmented_image_105.jpg  \n",
      "  inflating: train/with_mask/augmented_image_106.jpg  \n",
      "  inflating: train/with_mask/augmented_image_107.jpg  \n",
      "  inflating: train/with_mask/augmented_image_108.jpg  \n",
      "  inflating: train/with_mask/augmented_image_109.jpg  \n",
      "  inflating: train/with_mask/augmented_image_11.jpg  \n",
      "  inflating: train/with_mask/augmented_image_110.jpg  \n",
      "  inflating: train/with_mask/augmented_image_111.jpg  \n",
      "  inflating: train/with_mask/augmented_image_112.jpg  \n",
      "  inflating: train/with_mask/augmented_image_113.jpg  \n",
      "  inflating: train/with_mask/augmented_image_114.jpg  \n",
      "  inflating: train/with_mask/augmented_image_115.jpg  \n",
      "  inflating: train/with_mask/augmented_image_116.jpg  \n",
      "  inflating: train/with_mask/augmented_image_117.jpg  \n",
      "  inflating: train/with_mask/augmented_image_118.jpg  \n",
      "  inflating: train/with_mask/augmented_image_119.jpg  \n",
      "  inflating: train/with_mask/augmented_image_12.jpg  \n",
      "  inflating: train/with_mask/augmented_image_120.jpg  \n",
      "  inflating: train/with_mask/augmented_image_121.jpg  \n",
      "  inflating: train/with_mask/augmented_image_122.jpg  \n",
      "  inflating: train/with_mask/augmented_image_123.jpg  \n",
      "  inflating: train/with_mask/augmented_image_124.jpg  \n",
      "  inflating: train/with_mask/augmented_image_125.jpg  \n",
      "  inflating: train/with_mask/augmented_image_126.jpg  \n",
      "  inflating: train/with_mask/augmented_image_127.jpg  \n",
      "  inflating: train/with_mask/augmented_image_128.jpg  \n",
      "  inflating: train/with_mask/augmented_image_129.jpg  \n",
      "  inflating: train/with_mask/augmented_image_13.jpg  \n",
      "  inflating: train/with_mask/augmented_image_130.jpg  \n",
      "  inflating: train/with_mask/augmented_image_131.jpg  \n",
      "  inflating: train/with_mask/augmented_image_132.jpg  \n",
      "  inflating: train/with_mask/augmented_image_133.jpg  \n",
      "  inflating: train/with_mask/augmented_image_134.jpg  \n",
      "  inflating: train/with_mask/augmented_image_135.jpg  \n",
      "  inflating: train/with_mask/augmented_image_136.jpg  \n",
      "  inflating: train/with_mask/augmented_image_137.jpg  \n",
      "  inflating: train/with_mask/augmented_image_138.jpg  \n",
      "  inflating: train/with_mask/augmented_image_139.jpg  \n",
      "  inflating: train/with_mask/augmented_image_14.jpg  \n",
      "  inflating: train/with_mask/augmented_image_140.jpg  \n",
      "  inflating: train/with_mask/augmented_image_141.jpg  \n",
      "  inflating: train/with_mask/augmented_image_142.jpg  \n",
      "  inflating: train/with_mask/augmented_image_143.jpg  \n",
      "  inflating: train/with_mask/augmented_image_144.jpg  \n",
      "  inflating: train/with_mask/augmented_image_145.jpg  \n",
      "  inflating: train/with_mask/augmented_image_146.jpg  \n",
      "  inflating: train/with_mask/augmented_image_147.jpg  \n",
      "  inflating: train/with_mask/augmented_image_148.jpg  \n",
      "  inflating: train/with_mask/augmented_image_149.jpg  \n",
      "  inflating: train/with_mask/augmented_image_15.jpg  \n",
      "  inflating: train/with_mask/augmented_image_150.jpg  \n",
      "  inflating: train/with_mask/augmented_image_151.jpg  \n",
      "  inflating: train/with_mask/augmented_image_152.jpg  \n",
      "  inflating: train/with_mask/augmented_image_153.jpg  \n",
      "  inflating: train/with_mask/augmented_image_154.jpg  \n",
      "  inflating: train/with_mask/augmented_image_155.jpg  \n",
      "  inflating: train/with_mask/augmented_image_156.jpg  \n",
      "  inflating: train/with_mask/augmented_image_157.jpg  \n",
      "  inflating: train/with_mask/augmented_image_158.jpg  \n",
      "  inflating: train/with_mask/augmented_image_159.jpg  \n",
      "  inflating: train/with_mask/augmented_image_16.jpg  \n",
      "  inflating: train/with_mask/augmented_image_160.jpg  \n",
      "  inflating: train/with_mask/augmented_image_161.jpg  \n",
      "  inflating: train/with_mask/augmented_image_162.jpg  \n",
      "  inflating: train/with_mask/augmented_image_163.jpg  \n",
      "  inflating: train/with_mask/augmented_image_164.jpg  \n",
      "  inflating: train/with_mask/augmented_image_165.jpg  \n",
      "  inflating: train/with_mask/augmented_image_166.jpg  \n",
      "  inflating: train/with_mask/augmented_image_167.jpg  \n",
      "  inflating: train/with_mask/augmented_image_168.jpg  \n",
      "  inflating: train/with_mask/augmented_image_169.jpg  \n",
      "  inflating: train/with_mask/augmented_image_17.jpg  \n",
      "  inflating: train/with_mask/augmented_image_170.jpg  \n",
      "  inflating: train/with_mask/augmented_image_171.jpg  \n",
      "  inflating: train/with_mask/augmented_image_172.jpg  \n",
      "  inflating: train/with_mask/augmented_image_173.jpg  \n",
      "  inflating: train/with_mask/augmented_image_174.jpg  \n",
      "  inflating: train/with_mask/augmented_image_175.jpg  \n",
      "  inflating: train/with_mask/augmented_image_176.jpg  \n",
      "  inflating: train/with_mask/augmented_image_177.jpg  \n",
      "  inflating: train/with_mask/augmented_image_178.jpg  \n",
      "  inflating: train/with_mask/augmented_image_179.jpg  \n",
      "  inflating: train/with_mask/augmented_image_18.jpg  \n",
      "  inflating: train/with_mask/augmented_image_180.jpg  \n",
      "  inflating: train/with_mask/augmented_image_181.jpg  \n",
      "  inflating: train/with_mask/augmented_image_182.jpg  \n",
      "  inflating: train/with_mask/augmented_image_183.jpg  \n",
      "  inflating: train/with_mask/augmented_image_184.jpg  \n",
      "  inflating: train/with_mask/augmented_image_185.jpg  \n",
      "  inflating: train/with_mask/augmented_image_186.jpg  \n",
      "  inflating: train/with_mask/augmented_image_187.jpg  \n",
      "  inflating: train/with_mask/augmented_image_188.jpg  \n",
      "  inflating: train/with_mask/augmented_image_189.jpg  \n",
      "  inflating: train/with_mask/augmented_image_19.jpg  \n",
      "  inflating: train/with_mask/augmented_image_190.jpg  \n",
      "  inflating: train/with_mask/augmented_image_191.jpg  \n",
      "  inflating: train/with_mask/augmented_image_192.jpg  \n",
      "  inflating: train/with_mask/augmented_image_193.jpg  \n",
      "  inflating: train/with_mask/augmented_image_194.jpg  \n",
      "  inflating: train/with_mask/augmented_image_195.jpg  \n",
      "  inflating: train/with_mask/augmented_image_196.jpg  \n",
      "  inflating: train/with_mask/augmented_image_197.jpg  \n",
      "  inflating: train/with_mask/augmented_image_198.jpg  \n",
      "  inflating: train/with_mask/augmented_image_199.jpg  \n",
      "  inflating: train/with_mask/augmented_image_2.jpg  \n",
      "  inflating: train/with_mask/augmented_image_20.jpg  \n",
      "  inflating: train/with_mask/augmented_image_200.jpg  \n",
      "  inflating: train/with_mask/augmented_image_201.jpg  \n",
      "  inflating: train/with_mask/augmented_image_202.jpg  \n",
      "  inflating: train/with_mask/augmented_image_203.jpg  \n",
      "  inflating: train/with_mask/augmented_image_204.jpg  \n",
      "  inflating: train/with_mask/augmented_image_205.jpg  \n",
      "  inflating: train/with_mask/augmented_image_206.jpg  \n",
      "  inflating: train/with_mask/augmented_image_207.jpg  \n",
      "  inflating: train/with_mask/augmented_image_208.jpg  \n",
      "  inflating: train/with_mask/augmented_image_209.jpg  \n",
      "  inflating: train/with_mask/augmented_image_21.jpg  \n",
      "  inflating: train/with_mask/augmented_image_210.jpg  \n",
      "  inflating: train/with_mask/augmented_image_211.jpg  \n",
      "  inflating: train/with_mask/augmented_image_212.jpg  \n",
      "  inflating: train/with_mask/augmented_image_213.jpg  \n",
      "  inflating: train/with_mask/augmented_image_214.jpg  \n",
      "  inflating: train/with_mask/augmented_image_215.jpg  \n",
      "  inflating: train/with_mask/augmented_image_216.jpg  \n",
      "  inflating: train/with_mask/augmented_image_217.jpg  \n",
      "  inflating: train/with_mask/augmented_image_218.jpg  \n",
      "  inflating: train/with_mask/augmented_image_219.jpg  \n",
      "  inflating: train/with_mask/augmented_image_22.jpg  \n",
      "  inflating: train/with_mask/augmented_image_220.jpg  \n",
      "  inflating: train/with_mask/augmented_image_221.jpg  \n",
      "  inflating: train/with_mask/augmented_image_222.jpg  \n",
      "  inflating: train/with_mask/augmented_image_223.jpg  \n",
      "  inflating: train/with_mask/augmented_image_227.jpg  \n",
      "  inflating: train/with_mask/augmented_image_228.jpg  \n",
      "  inflating: train/with_mask/augmented_image_23.jpg  \n",
      "  inflating: train/with_mask/augmented_image_230.jpg  \n",
      "  inflating: train/with_mask/augmented_image_232.jpg  \n",
      "  inflating: train/with_mask/augmented_image_234.jpg  \n",
      "  inflating: train/with_mask/augmented_image_235.jpg  \n",
      "  inflating: train/with_mask/augmented_image_236.jpg  \n",
      "  inflating: train/with_mask/augmented_image_237.jpg  \n",
      "  inflating: train/with_mask/augmented_image_238.jpg  \n",
      "  inflating: train/with_mask/augmented_image_239.jpg  \n",
      "  inflating: train/with_mask/augmented_image_24.jpg  \n",
      "  inflating: train/with_mask/augmented_image_240.jpg  \n",
      "  inflating: train/with_mask/augmented_image_242.jpg  \n",
      "  inflating: train/with_mask/augmented_image_243.jpg  \n",
      "  inflating: train/with_mask/augmented_image_244.jpg  \n",
      "  inflating: train/with_mask/augmented_image_245.jpg  \n",
      "  inflating: train/with_mask/augmented_image_246.jpg  \n",
      "  inflating: train/with_mask/augmented_image_247.jpg  \n",
      "  inflating: train/with_mask/augmented_image_25.jpg  \n",
      "  inflating: train/with_mask/augmented_image_251.jpg  \n",
      "  inflating: train/with_mask/augmented_image_252.jpg  \n",
      "  inflating: train/with_mask/augmented_image_254.jpg  \n",
      "  inflating: train/with_mask/augmented_image_256.jpg  \n",
      "  inflating: train/with_mask/augmented_image_257.jpg  \n",
      "  inflating: train/with_mask/augmented_image_258.jpg  \n",
      "  inflating: train/with_mask/augmented_image_26.jpg  \n",
      "  inflating: train/with_mask/augmented_image_261.jpg  \n",
      "  inflating: train/with_mask/augmented_image_262.jpg  \n",
      "  inflating: train/with_mask/augmented_image_264.jpg  \n",
      "  inflating: train/with_mask/augmented_image_265.jpg  \n",
      "  inflating: train/with_mask/augmented_image_266.jpg  \n",
      "  inflating: train/with_mask/augmented_image_267.jpg  \n",
      "  inflating: train/with_mask/augmented_image_268.jpg  \n",
      "  inflating: train/with_mask/augmented_image_27.jpg  \n",
      "  inflating: train/with_mask/augmented_image_270.jpg  \n",
      "  inflating: train/with_mask/augmented_image_273.jpg  \n",
      "  inflating: train/with_mask/augmented_image_277.jpg  \n",
      "  inflating: train/with_mask/augmented_image_28.jpg  \n",
      "  inflating: train/with_mask/augmented_image_280.jpg  \n",
      "  inflating: train/with_mask/augmented_image_281.jpg  \n",
      "  inflating: train/with_mask/augmented_image_284.jpg  \n",
      "  inflating: train/with_mask/augmented_image_285.jpg  \n",
      "  inflating: train/with_mask/augmented_image_286.jpg  \n",
      "  inflating: train/with_mask/augmented_image_287.jpg  \n",
      "  inflating: train/with_mask/augmented_image_288.jpg  \n",
      "  inflating: train/with_mask/augmented_image_289.jpg  \n",
      "  inflating: train/with_mask/augmented_image_29.jpg  \n",
      "  inflating: train/with_mask/augmented_image_291.jpg  \n",
      "  inflating: train/with_mask/augmented_image_295.jpg  \n",
      "  inflating: train/with_mask/augmented_image_296.jpg  \n",
      "  inflating: train/with_mask/augmented_image_299.jpg  \n",
      "  inflating: train/with_mask/augmented_image_3.jpg  \n",
      "  inflating: train/with_mask/augmented_image_30.jpg  \n",
      "  inflating: train/with_mask/augmented_image_300.jpg  \n",
      "  inflating: train/with_mask/augmented_image_303.jpg  \n",
      "  inflating: train/with_mask/augmented_image_305.jpg  \n",
      "  inflating: train/with_mask/augmented_image_306.jpg  \n",
      "  inflating: train/with_mask/augmented_image_308.jpg  \n",
      "  inflating: train/with_mask/augmented_image_31.jpg  \n",
      "  inflating: train/with_mask/augmented_image_310.jpg  \n",
      "  inflating: train/with_mask/augmented_image_311.jpg  \n",
      "  inflating: train/with_mask/augmented_image_314.jpg  \n",
      "  inflating: train/with_mask/augmented_image_315.jpg  \n",
      "  inflating: train/with_mask/augmented_image_316.jpg  \n",
      "  inflating: train/with_mask/augmented_image_32.jpg  \n",
      "  inflating: train/with_mask/augmented_image_33.jpg  \n",
      "  inflating: train/with_mask/augmented_image_34.jpg  \n",
      "  inflating: train/with_mask/augmented_image_35.jpg  \n",
      "  inflating: train/with_mask/augmented_image_36.jpg  \n",
      "  inflating: train/with_mask/augmented_image_37.jpg  \n",
      "  inflating: train/with_mask/augmented_image_38.jpg  \n",
      "  inflating: train/with_mask/augmented_image_39.jpg  \n",
      "  inflating: train/with_mask/augmented_image_4.jpg  \n",
      "  inflating: train/with_mask/augmented_image_40.jpg  \n",
      "  inflating: train/with_mask/augmented_image_41.jpg  \n",
      "  inflating: train/with_mask/augmented_image_42.jpg  \n",
      "  inflating: train/with_mask/augmented_image_43.jpg  \n",
      "  inflating: train/with_mask/augmented_image_44.jpg  \n",
      "  inflating: train/with_mask/augmented_image_45.jpg  \n",
      "  inflating: train/with_mask/augmented_image_46.jpg  \n",
      "  inflating: train/with_mask/augmented_image_47.jpg  \n",
      "  inflating: train/with_mask/augmented_image_48.jpg  \n",
      "  inflating: train/with_mask/augmented_image_49.jpg  \n",
      "  inflating: train/with_mask/augmented_image_5.jpg  \n",
      "  inflating: train/with_mask/augmented_image_50.jpg  \n",
      "  inflating: train/with_mask/augmented_image_51.jpg  \n",
      "  inflating: train/with_mask/augmented_image_52.jpg  \n",
      "  inflating: train/with_mask/augmented_image_53.jpg  \n",
      "  inflating: train/with_mask/augmented_image_54.jpg  \n",
      "  inflating: train/with_mask/augmented_image_55.jpg  \n",
      "  inflating: train/with_mask/augmented_image_56.jpg  \n",
      "  inflating: train/with_mask/augmented_image_57.jpg  \n",
      "  inflating: train/with_mask/augmented_image_58.jpg  \n",
      "  inflating: train/with_mask/augmented_image_59.jpg  \n",
      "  inflating: train/with_mask/augmented_image_6.jpg  \n",
      "  inflating: train/with_mask/augmented_image_60.jpg  \n",
      "  inflating: train/with_mask/augmented_image_61.jpg  \n",
      "  inflating: train/with_mask/augmented_image_62.jpg  \n",
      "  inflating: train/with_mask/augmented_image_63.jpg  \n",
      "  inflating: train/with_mask/augmented_image_64.jpg  \n",
      "  inflating: train/with_mask/augmented_image_65.jpg  \n",
      "  inflating: train/with_mask/augmented_image_66.jpg  \n",
      "  inflating: train/with_mask/augmented_image_67.jpg  \n",
      "  inflating: train/with_mask/augmented_image_68.jpg  \n",
      "  inflating: train/with_mask/augmented_image_69.jpg  \n",
      "  inflating: train/with_mask/augmented_image_7.jpg  \n",
      "  inflating: train/with_mask/augmented_image_70.jpg  \n",
      "  inflating: train/with_mask/augmented_image_71.jpg  \n",
      "  inflating: train/with_mask/augmented_image_72.jpg  \n",
      "  inflating: train/with_mask/augmented_image_73.jpg  \n",
      "  inflating: train/with_mask/augmented_image_74.jpg  \n",
      "  inflating: train/with_mask/augmented_image_75.jpg  \n",
      "  inflating: train/with_mask/augmented_image_76.jpg  \n",
      "  inflating: train/with_mask/augmented_image_77.jpg  \n",
      "  inflating: train/with_mask/augmented_image_78.jpg  \n",
      "  inflating: train/with_mask/augmented_image_79.jpg  \n",
      "  inflating: train/with_mask/augmented_image_8.jpg  \n",
      "  inflating: train/with_mask/augmented_image_80.jpg  \n",
      "  inflating: train/with_mask/augmented_image_81.jpg  \n",
      "  inflating: train/with_mask/augmented_image_82.jpg  \n",
      "  inflating: train/with_mask/augmented_image_83.jpg  \n",
      "  inflating: train/with_mask/augmented_image_84.jpg  \n",
      "  inflating: train/with_mask/augmented_image_85.jpg  \n",
      "  inflating: train/with_mask/augmented_image_86.jpg  \n",
      "  inflating: train/with_mask/augmented_image_87.jpg  \n",
      "  inflating: train/with_mask/augmented_image_88.jpg  \n",
      "  inflating: train/with_mask/augmented_image_89.jpg  \n",
      "  inflating: train/with_mask/augmented_image_9.jpg  \n",
      "  inflating: train/with_mask/augmented_image_90.jpg  \n",
      "  inflating: train/with_mask/augmented_image_91.jpg  \n",
      "  inflating: train/with_mask/augmented_image_92.jpg  \n",
      "  inflating: train/with_mask/augmented_image_93.jpg  \n",
      "  inflating: train/with_mask/augmented_image_94.jpg  \n",
      "  inflating: train/with_mask/augmented_image_96.jpg  \n",
      "  inflating: train/with_mask/augmented_image_97.jpg  \n",
      "  inflating: train/with_mask/augmented_image_98.jpg  \n",
      "  inflating: train/with_mask/augmented_image_99.jpg  \n",
      "  inflating: train/with_mask/depositphotos-8449546-stock-photo-flu-illness-child-boy-in.jpg  \n",
      "  inflating: train/with_mask/ds1917.jpg  \n",
      "  inflating: train/with_mask/flu-surgical-face-mask.jpg  \n",
      "  inflating: train/with_mask/flumask-feature-470x313.jpg  \n",
      "  inflating: train/with_mask/gettyimages-1181396760.jpg  \n",
      "  inflating: train/with_mask/gettyimages-713771083-1024x1024.jpg  \n",
      "  inflating: train/with_mask/gettyimages-77932927-1024x1024.jpg  \n",
      "  inflating: train/with_mask/grid-wide-surgical-mask-at752007.jpg  \n",
      "  inflating: train/with_mask/high-filtration-surgical-mask-front-47650.jpg  \n",
      "  inflating: train/with_mask/image.jpg  \n",
      "  inflating: train/with_mask/man-wearing-surgical-mask-11976575.jpg  \n",
      "  inflating: train/with_mask/mask-GettyImages-Science-Photo-Library.jpg  \n",
      "  inflating: train/with_mask/pd-kategorie-h-mundschutz.jpeg  \n",
      "  inflating: train/with_mask/portrait-doctor-with-surgical-mask-stethoscope-23-2148454273.jpg  \n",
      "  inflating: train/with_mask/portrait-woman-with-surgical-mask-posing-23-2148454231.jpg  \n",
      "  inflating: train/with_mask/pr-antiviral-face-mask-20120321.jpg  \n",
      "  inflating: train/with_mask/pra1.jpg  \n",
      "  inflating: train/with_mask/pra2.jpg  \n",
      "  inflating: train/with_mask/pra3.jpg  \n",
      "  inflating: train/with_mask/prajna.jpg  \n",
      "  inflating: train/with_mask/premium-lashes-mask-1024x1024.jpg  \n",
      "  inflating: train/with_mask/r236210-950860.jpg  \n",
      "  inflating: train/with_mask/surgical-disposable-face-mask-250x250.jpg  \n",
      "  inflating: train/with_mask/surgical-face-mask-standard.jpg  \n",
      "  inflating: train/with_mask/surgical-face-masks-special.jpg  \n",
      "  inflating: train/with_mask/surgical-mask-49701-blue.jpg  \n",
      "  inflating: train/with_mask/surgical-mask-49701-blue2.jpg  \n",
      "  inflating: train/with_mask/the-lite-one-surgical-mask-green-48105-angled-copy.jpg  \n",
      "  inflating: train/with_mask/with-surgical-mask-stock-picture-648477.jpg  \n",
      "  inflating: train/with_mask/woman-with-face-mask-swine-flu-flu-viruses-BDX72A.jpg  \n",
      "   creating: train/without_mask/\n",
      "  inflating: train/without_mask/1.jpg  \n",
      "  inflating: train/without_mask/100.jpg  \n",
      "  inflating: train/without_mask/101.jpg  \n",
      "  inflating: train/without_mask/102.jpg  \n",
      "  inflating: train/without_mask/104.jpg  \n",
      "  inflating: train/without_mask/105.jpg  \n",
      "  inflating: train/without_mask/106.jpg  \n",
      "  inflating: train/without_mask/107.jpg  \n",
      "  inflating: train/without_mask/108.jpg  \n",
      "  inflating: train/without_mask/109.jpg  \n",
      "  inflating: train/without_mask/11.jpg  \n",
      "  inflating: train/without_mask/110.jpg  \n",
      "  inflating: train/without_mask/111.jpg  \n",
      "  inflating: train/without_mask/112.jpg  \n",
      "  inflating: train/without_mask/114.jpg  \n",
      "  inflating: train/without_mask/115.jpg  \n",
      "  inflating: train/without_mask/11707.jpg  \n",
      "  inflating: train/without_mask/118.jpg  \n",
      "  inflating: train/without_mask/119.jpg  \n",
      "  inflating: train/without_mask/12.jpg  \n",
      "  inflating: train/without_mask/120.jpg  \n",
      "  inflating: train/without_mask/123.jpg  \n",
      "  inflating: train/without_mask/124.jpg  \n",
      "  inflating: train/without_mask/125.jpg  \n",
      "  inflating: train/without_mask/127.jpg  \n",
      "  inflating: train/without_mask/128.jpg  \n",
      "  inflating: train/without_mask/13.jpg  \n",
      "  inflating: train/without_mask/130.jpg  \n",
      "  inflating: train/without_mask/131.jpg  \n",
      "  inflating: train/without_mask/132.jpg  \n",
      "  inflating: train/without_mask/135.jpg  \n",
      "  inflating: train/without_mask/136.jpg  \n",
      "  inflating: train/without_mask/137.jpg  \n",
      "  inflating: train/without_mask/138.jpg  \n",
      "  inflating: train/without_mask/139.jpg  \n",
      "  inflating: train/without_mask/14.jpg  \n",
      "  inflating: train/without_mask/140.jpg  \n",
      "  inflating: train/without_mask/141.jpg  \n",
      "  inflating: train/without_mask/142.jpg  \n",
      "  inflating: train/without_mask/145.jpg  \n",
      "  inflating: train/without_mask/146.jpg  \n",
      "  inflating: train/without_mask/149.jpg  \n",
      "  inflating: train/without_mask/15.jpg  \n",
      "  inflating: train/without_mask/151.jpg  \n",
      "  inflating: train/without_mask/152.jpg  \n",
      "  inflating: train/without_mask/153.jpg  \n",
      "  inflating: train/without_mask/154.jpg  \n",
      "  inflating: train/without_mask/155.jpg  \n",
      "  inflating: train/without_mask/156.jpg  \n",
      "  inflating: train/without_mask/157.jpg  \n",
      "  inflating: train/without_mask/158.jpg  \n",
      "  inflating: train/without_mask/16.jpg  \n",
      "  inflating: train/without_mask/160.jpg  \n",
      "  inflating: train/without_mask/162.jpg  \n",
      "  inflating: train/without_mask/163.jpg  \n",
      "  inflating: train/without_mask/164.jpg  \n",
      "  inflating: train/without_mask/169.jpg  \n",
      "  inflating: train/without_mask/17.jpg  \n",
      "  inflating: train/without_mask/170.jpg  \n",
      "  inflating: train/without_mask/171.jpg  \n",
      "  inflating: train/without_mask/172.jpg  \n",
      "  inflating: train/without_mask/175.jpg  \n",
      "  inflating: train/without_mask/176.jpg  \n",
      "  inflating: train/without_mask/178.jpg  \n",
      "  inflating: train/without_mask/18.jpg  \n",
      "  inflating: train/without_mask/180.jpg  \n",
      "  inflating: train/without_mask/181.jpg  \n",
      "  inflating: train/without_mask/183.jpg  \n",
      "  inflating: train/without_mask/185.jpg  \n",
      "  inflating: train/without_mask/186.jpg  \n",
      "  inflating: train/without_mask/187.jpg  \n",
      "  inflating: train/without_mask/188.jpg  \n",
      "  inflating: train/without_mask/19.jpg  \n",
      "  inflating: train/without_mask/191.jpg  \n",
      "  inflating: train/without_mask/192.jpg  \n",
      "  inflating: train/without_mask/194.jpg  \n",
      "  inflating: train/without_mask/1947555.jpg  \n",
      "  inflating: train/without_mask/195.jpg  \n",
      "  inflating: train/without_mask/196.jpg  \n",
      "  inflating: train/without_mask/197.jpg  \n",
      "  inflating: train/without_mask/2.jpg  \n",
      "  inflating: train/without_mask/20.jpg  \n",
      "  inflating: train/without_mask/203.jpg  \n",
      "  inflating: train/without_mask/204.jpg  \n",
      "  inflating: train/without_mask/206.jpg  \n",
      "  inflating: train/without_mask/207.jpg  \n",
      "  inflating: train/without_mask/20pic5.jpg  \n",
      "  inflating: train/without_mask/210.jpg  \n",
      "  inflating: train/without_mask/211.jpg  \n",
      "  inflating: train/without_mask/212.jpg  \n",
      "  inflating: train/without_mask/213.jpg  \n",
      "  inflating: train/without_mask/214.jpg  \n",
      "  inflating: train/without_mask/215.jpg  \n",
      "  inflating: train/without_mask/216.jpg  \n",
      "  inflating: train/without_mask/217.jpg  \n",
      "  inflating: train/without_mask/22.jpg  \n",
      "  inflating: train/without_mask/220.jpg  \n",
      "  inflating: train/without_mask/221.jpg  \n",
      "  inflating: train/without_mask/222.jpg  \n",
      "  inflating: train/without_mask/223.jpg  \n",
      "  inflating: train/without_mask/224.jpg  \n",
      "  inflating: train/without_mask/225.jpg  \n",
      "  inflating: train/without_mask/226.jpg  \n",
      "  inflating: train/without_mask/227.jpg  \n",
      "  inflating: train/without_mask/228.jpg  \n",
      "  inflating: train/without_mask/229.jpg  \n",
      "  inflating: train/without_mask/23.jpg  \n",
      "  inflating: train/without_mask/230.jpg  \n",
      "  inflating: train/without_mask/233.jpg  \n",
      "  inflating: train/without_mask/234.jpg  \n",
      "  inflating: train/without_mask/239.jpg  \n",
      "  inflating: train/without_mask/24.jpg  \n",
      "  inflating: train/without_mask/240.jpg  \n",
      "  inflating: train/without_mask/241.jpg  \n",
      "  inflating: train/without_mask/242.jpg  \n",
      "  inflating: train/without_mask/243.jpg  \n",
      "  inflating: train/without_mask/244.jpg  \n",
      "  inflating: train/without_mask/246.jpg  \n",
      "  inflating: train/without_mask/247.jpg  \n",
      "  inflating: train/without_mask/248.jpg  \n",
      "  inflating: train/without_mask/249.jpg  \n",
      "  inflating: train/without_mask/250.jpg  \n",
      "  inflating: train/without_mask/251.jpg  \n",
      "  inflating: train/without_mask/252.jpg  \n",
      "  inflating: train/without_mask/253.jpg  \n",
      "  inflating: train/without_mask/254.jpg  \n",
      "  inflating: train/without_mask/256.jpg  \n",
      "  inflating: train/without_mask/258.jpg  \n",
      "  inflating: train/without_mask/259.jpg  \n",
      "  inflating: train/without_mask/260.jpg  \n",
      "  inflating: train/without_mask/263.jpg  \n",
      "  inflating: train/without_mask/264.jpg  \n",
      "  inflating: train/without_mask/265.jpg  \n",
      "  inflating: train/without_mask/266.jpg  \n",
      "  inflating: train/without_mask/267.jpg  \n",
      "  inflating: train/without_mask/269.jpg  \n",
      "  inflating: train/without_mask/27.jpg  \n",
      "  inflating: train/without_mask/271.jpg  \n",
      "  inflating: train/without_mask/275.jpg  \n",
      "  inflating: train/without_mask/278.jpg  \n",
      "  inflating: train/without_mask/28.jpg  \n",
      "  inflating: train/without_mask/280.jpg  \n",
      "  inflating: train/without_mask/281.jpg  \n",
      "  inflating: train/without_mask/283.jpg  \n",
      "  inflating: train/without_mask/285.jpg  \n",
      "  inflating: train/without_mask/286.jpg  \n",
      "  inflating: train/without_mask/287.jpg  \n",
      "  inflating: train/without_mask/288.jpg  \n",
      "  inflating: train/without_mask/289.jpg  \n",
      "  inflating: train/without_mask/29.jpg  \n",
      "  inflating: train/without_mask/290.jpg  \n",
      "  inflating: train/without_mask/291.jpg  \n",
      "  inflating: train/without_mask/292.jpg  \n",
      "  inflating: train/without_mask/293.jpg  \n",
      "  inflating: train/without_mask/294.jpg  \n",
      "  inflating: train/without_mask/297.jpg  \n",
      "  inflating: train/without_mask/299.jpg  \n",
      "  inflating: train/without_mask/3.jpg  \n",
      "  inflating: train/without_mask/300full.jpg  \n",
      "  inflating: train/without_mask/302.jpg  \n",
      "  inflating: train/without_mask/303.jpg  \n",
      "  inflating: train/without_mask/306.jpg  \n",
      "  inflating: train/without_mask/308.jpg  \n",
      "  inflating: train/without_mask/309.jpg  \n",
      "  inflating: train/without_mask/315.jpg  \n",
      "  inflating: train/without_mask/316.jpg  \n",
      "  inflating: train/without_mask/317.jpg  \n",
      "  inflating: train/without_mask/32.jpg  \n",
      "  inflating: train/without_mask/321.jpg  \n",
      "  inflating: train/without_mask/322.jpg  \n",
      "  inflating: train/without_mask/323.jpg  \n",
      "  inflating: train/without_mask/325.jpg  \n",
      "  inflating: train/without_mask/326.jpg  \n",
      "  inflating: train/without_mask/327.jpg  \n",
      "  inflating: train/without_mask/328.jpg  \n",
      "  inflating: train/without_mask/329.jpg  \n",
      "  inflating: train/without_mask/33.jpg  \n",
      "  inflating: train/without_mask/330.jpg  \n",
      "  inflating: train/without_mask/335.jpg  \n",
      "  inflating: train/without_mask/338.jpg  \n",
      "  inflating: train/without_mask/339.jpg  \n",
      "  inflating: train/without_mask/34.jpg  \n",
      "  inflating: train/without_mask/340.jpg  \n",
      "  inflating: train/without_mask/345.jpg  \n",
      "  inflating: train/without_mask/347.jpg  \n",
      "  inflating: train/without_mask/348.jpg  \n",
      "  inflating: train/without_mask/349.jpg  \n",
      "  inflating: train/without_mask/350.jpg  \n",
      "  inflating: train/without_mask/351.jpg  \n",
      "  inflating: train/without_mask/352.jpg  \n",
      "  inflating: train/without_mask/354.jpg  \n",
      "  inflating: train/without_mask/355.jpg  \n",
      "  inflating: train/without_mask/356.jpg  \n",
      "  inflating: train/without_mask/359.jpg  \n",
      "  inflating: train/without_mask/36.jpg  \n",
      "  inflating: train/without_mask/360.jpg  \n",
      "  inflating: train/without_mask/361.jpg  \n",
      "  inflating: train/without_mask/363.jpg  \n",
      "  inflating: train/without_mask/364.jpg  \n",
      "  inflating: train/without_mask/365.jpg  \n",
      "  inflating: train/without_mask/367.jpg  \n",
      "  inflating: train/without_mask/370.jpg  \n",
      "  inflating: train/without_mask/372.jpg  \n",
      "  inflating: train/without_mask/373.jpg  \n",
      "  inflating: train/without_mask/374.jpg  \n",
      "  inflating: train/without_mask/375.jpg  \n",
      "  inflating: train/without_mask/376.jpg  \n",
      "  inflating: train/without_mask/379.jpg  \n",
      "  inflating: train/without_mask/383.jpg  \n",
      "  inflating: train/without_mask/385.jpg  \n",
      "  inflating: train/without_mask/386.jpg  \n",
      "  inflating: train/without_mask/387.jpg  \n",
      "  inflating: train/without_mask/388.jpg  \n",
      "  inflating: train/without_mask/389.jpg  \n",
      "  inflating: train/without_mask/390.jpg  \n",
      "  inflating: train/without_mask/392.jpg  \n",
      "  inflating: train/without_mask/393.jpg  \n",
      "  inflating: train/without_mask/394.jpg  \n",
      "  inflating: train/without_mask/395.jpg  \n",
      "  inflating: train/without_mask/397.jpg  \n",
      "  inflating: train/without_mask/398.jpg  \n",
      "  inflating: train/without_mask/3a7f1529ad61ce21cd446b31e669b13f.jpg  \n",
      "  inflating: train/without_mask/4.jpg  \n",
      "  inflating: train/without_mask/40.jpg  \n",
      "  inflating: train/without_mask/400.jpg  \n",
      "  inflating: train/without_mask/402.jpg  \n",
      "  inflating: train/without_mask/4023267.jpg  \n",
      "  inflating: train/without_mask/403.jpg  \n",
      "  inflating: train/without_mask/404.jpg  \n",
      "  inflating: train/without_mask/405.jpg  \n",
      "  inflating: train/without_mask/406.jpg  \n",
      "  inflating: train/without_mask/407.jpg  \n",
      "  inflating: train/without_mask/411.jpg  \n",
      "  inflating: train/without_mask/412.jpg  \n",
      "  inflating: train/without_mask/413.jpg  \n",
      "  inflating: train/without_mask/414.jpg  \n",
      "  inflating: train/without_mask/416.jpg  \n",
      "  inflating: train/without_mask/417.jpg  \n",
      "  inflating: train/without_mask/419.jpg  \n",
      "  inflating: train/without_mask/42.jpg  \n",
      "  inflating: train/without_mask/420.jpg  \n",
      "  inflating: train/without_mask/421.jpg  \n",
      "  inflating: train/without_mask/422.jpg  \n",
      "  inflating: train/without_mask/423.jpg  \n",
      "  inflating: train/without_mask/424.jpg  \n",
      "  inflating: train/without_mask/425.jpg  \n",
      "  inflating: train/without_mask/426.jpg  \n",
      "  inflating: train/without_mask/428.jpg  \n",
      "  inflating: train/without_mask/43.jpg  \n",
      "  inflating: train/without_mask/430.jpg  \n",
      "  inflating: train/without_mask/431.jpg  \n",
      "  inflating: train/without_mask/435.jpg  \n",
      "  inflating: train/without_mask/437.jpg  \n",
      "  inflating: train/without_mask/438.jpg  \n",
      "  inflating: train/without_mask/439.jpg  \n",
      "  inflating: train/without_mask/44.jpg  \n",
      "  inflating: train/without_mask/441.jpg  \n",
      "  inflating: train/without_mask/442.jpg  \n",
      "  inflating: train/without_mask/443.jpg  \n",
      "  inflating: train/without_mask/445.jpg  \n",
      "  inflating: train/without_mask/449.jpg  \n",
      "  inflating: train/without_mask/44a0110a-fb6b-4e24-ba06-8c0b91fc06db.jpg  \n",
      "  inflating: train/without_mask/45.jpg  \n",
      "  inflating: train/without_mask/450.jpg  \n",
      "  inflating: train/without_mask/452.jpg  \n",
      "  inflating: train/without_mask/453.jpg  \n",
      "  inflating: train/without_mask/454.jpg  \n",
      "  inflating: train/without_mask/455.jpg  \n",
      "  inflating: train/without_mask/456.jpg  \n",
      "  inflating: train/without_mask/458.jpg  \n",
      "  inflating: train/without_mask/45e7f325306465-56343bff24656.jpg  \n",
      "  inflating: train/without_mask/46.jpg  \n",
      "  inflating: train/without_mask/460.jpg  \n",
      "  inflating: train/without_mask/461.jpg  \n",
      "  inflating: train/without_mask/462.jpg  \n",
      "  inflating: train/without_mask/463.jpg  \n",
      "  inflating: train/without_mask/464.jpg  \n",
      "  inflating: train/without_mask/465.jpg  \n",
      "  inflating: train/without_mask/467.jpg  \n",
      "  inflating: train/without_mask/468.jpg  \n",
      "  inflating: train/without_mask/47.jpg  \n",
      "  inflating: train/without_mask/475.jpg  \n",
      "  inflating: train/without_mask/476.jpg  \n",
      "  inflating: train/without_mask/478.jpg  \n",
      "  inflating: train/without_mask/48.jpg  \n",
      "  inflating: train/without_mask/480.jpg  \n",
      "  inflating: train/without_mask/4866095785-1e9a271efc-b.jpg  \n",
      "  inflating: train/without_mask/49.jpg  \n",
      "  inflating: train/without_mask/49ed033ddd116bc8c87230493c729cad.jpg  \n",
      "  inflating: train/without_mask/4eb86725306465-56343c1478822.jpg  \n",
      "  inflating: train/without_mask/50-best-faces-gayatri-devi-.jpg  \n",
      "  inflating: train/without_mask/50.jpg  \n",
      "  inflating: train/without_mask/5035463427-58547607b3-b.jpg  \n",
      "  inflating: train/without_mask/52.jpg  \n",
      "  inflating: train/without_mask/53.jpg  \n",
      "  inflating: train/without_mask/55.jpg  \n",
      "  inflating: train/without_mask/5594155955-8c0ba32c95-b.jpg  \n",
      "  inflating: train/without_mask/56.jpg  \n",
      "  inflating: train/without_mask/5623084-640x840.jpeg  \n",
      "  inflating: train/without_mask/57.jpg  \n",
      "  inflating: train/without_mask/582e4853f9b920ca1750ef1d17526e85--smiling-people-unique-face.jpg  \n",
      "  inflating: train/without_mask/6.jpg  \n",
      "  inflating: train/without_mask/63.jpg  \n",
      "  inflating: train/without_mask/65.jpg  \n",
      "  inflating: train/without_mask/66.jpg  \n",
      "  inflating: train/without_mask/67.jpg  \n",
      "  inflating: train/without_mask/69.jpg  \n",
      "  inflating: train/without_mask/6d67f5802aa639042ff19602b40b7a81.jpg  \n",
      "  inflating: train/without_mask/6eefca69d02aea9bc8bd1fc9759a9721.jpg  \n",
      "  inflating: train/without_mask/7.jpg  \n",
      "  inflating: train/without_mask/70.jpg  \n",
      "  inflating: train/without_mask/73.jpg  \n",
      "  inflating: train/without_mask/74032f1358d715e60db747f09267840f.jpg  \n",
      "  inflating: train/without_mask/76.jpg  \n",
      "  inflating: train/without_mask/77.jpg  \n",
      "  inflating: train/without_mask/80.jpg  \n",
      "  inflating: train/without_mask/81.jpg  \n",
      "  inflating: train/without_mask/83.jpg  \n",
      "  inflating: train/without_mask/84.jpg  \n",
      "  inflating: train/without_mask/86.jpg  \n",
      "  inflating: train/without_mask/87.jpg  \n",
      "  inflating: train/without_mask/88.jpg  \n",
      "  inflating: train/without_mask/9.jpg  \n",
      "  inflating: train/without_mask/90.jpg  \n",
      "  inflating: train/without_mask/91.jpg  \n",
      "  inflating: train/without_mask/92.jpg  \n",
      "  inflating: train/without_mask/923666b49a777e3dcc2ca902496e6e5d.jpg  \n",
      "  inflating: train/without_mask/94.jpg  \n",
      "  inflating: train/without_mask/95.jpg  \n",
      "  inflating: train/without_mask/96.jpg  \n",
      "  inflating: train/without_mask/97.jpg  \n",
      "  inflating: train/without_mask/97dfc5ff479b5f6d91b42c1453be000f.jpg  \n",
      "  inflating: train/without_mask/98.jpg  \n",
      "  inflating: train/without_mask/DSC01472.jpg  \n",
      "  inflating: train/without_mask/Indian-faces-0184.JPG  \n",
      "  inflating: train/without_mask/Indian-faces-0333.JPG  \n",
      "  inflating: train/without_mask/Indian-faces-0401.JPG  \n",
      "  inflating: train/without_mask/Indian-faces-0503.JPG  \n",
      "  inflating: train/without_mask/Indian-faces-0513.JPG  \n",
      "  inflating: train/without_mask/Indian-faces-0644.JPG  \n",
      "  inflating: train/without_mask/Indian-faces-0741.JPG  \n",
      "  inflating: train/without_mask/Indian-faces-0911.JPG  \n",
      "  inflating: train/without_mask/Indian-faces-0966.JPG  \n",
      "  inflating: train/without_mask/Indian-faces-1180.JPG  \n",
      "  inflating: train/without_mask/Indian-faces-2766.JPG  \n",
      "  inflating: train/without_mask/UTf8bVN3.jpeg  \n",
      "  inflating: train/without_mask/acbecb9b5cb35c08667430866e5d8c87.jpg  \n",
      "  inflating: train/without_mask/augmented_image_1.jpg  \n",
      "  inflating: train/without_mask/augmented_image_100.jpg  \n",
      "  inflating: train/without_mask/augmented_image_101.jpg  \n",
      "  inflating: train/without_mask/augmented_image_103.jpg  \n",
      "  inflating: train/without_mask/augmented_image_105.jpg  \n",
      "  inflating: train/without_mask/augmented_image_106.jpg  \n",
      "  inflating: train/without_mask/augmented_image_107.jpg  \n",
      "  inflating: train/without_mask/augmented_image_109.jpg  \n",
      "  inflating: train/without_mask/augmented_image_111.jpg  \n",
      "  inflating: train/without_mask/augmented_image_112.jpg  \n",
      "  inflating: train/without_mask/augmented_image_113.jpg  \n",
      "  inflating: train/without_mask/augmented_image_114.jpg  \n",
      "  inflating: train/without_mask/augmented_image_115.jpg  \n",
      "  inflating: train/without_mask/augmented_image_116.jpg  \n",
      "  inflating: train/without_mask/augmented_image_117.jpg  \n",
      "  inflating: train/without_mask/augmented_image_118.jpg  \n",
      "  inflating: train/without_mask/augmented_image_119.jpg  \n",
      "  inflating: train/without_mask/augmented_image_12.jpg  \n",
      "  inflating: train/without_mask/augmented_image_120.jpg  \n",
      "  inflating: train/without_mask/augmented_image_121.jpg  \n",
      "  inflating: train/without_mask/augmented_image_122.jpg  \n",
      "  inflating: train/without_mask/augmented_image_123.jpg  \n",
      "  inflating: train/without_mask/augmented_image_124.jpg  \n",
      "  inflating: train/without_mask/augmented_image_125.jpg  \n",
      "  inflating: train/without_mask/augmented_image_126.jpg  \n",
      "  inflating: train/without_mask/augmented_image_127.jpg  \n",
      "  inflating: train/without_mask/augmented_image_128.jpg  \n",
      "  inflating: train/without_mask/augmented_image_129.jpg  \n",
      "  inflating: train/without_mask/augmented_image_13.jpg  \n",
      "  inflating: train/without_mask/augmented_image_130.jpg  \n",
      "  inflating: train/without_mask/augmented_image_131.jpg  \n",
      "  inflating: train/without_mask/augmented_image_132.jpg  \n",
      "  inflating: train/without_mask/augmented_image_133.jpg  \n",
      "  inflating: train/without_mask/augmented_image_134.jpg  \n",
      "  inflating: train/without_mask/augmented_image_135.jpg  \n",
      "  inflating: train/without_mask/augmented_image_136.jpg  \n",
      "  inflating: train/without_mask/augmented_image_137.jpg  \n",
      "  inflating: train/without_mask/augmented_image_138.jpg  \n",
      "  inflating: train/without_mask/augmented_image_139.jpg  \n",
      "  inflating: train/without_mask/augmented_image_14.jpg  \n",
      "  inflating: train/without_mask/augmented_image_140.jpg  \n",
      "  inflating: train/without_mask/augmented_image_141.jpg  \n",
      "  inflating: train/without_mask/augmented_image_142.jpg  \n",
      "  inflating: train/without_mask/augmented_image_143.jpg  \n",
      "  inflating: train/without_mask/augmented_image_144.jpg  \n",
      "  inflating: train/without_mask/augmented_image_145.jpg  \n",
      "  inflating: train/without_mask/augmented_image_147.jpg  \n",
      "  inflating: train/without_mask/augmented_image_148.jpg  \n",
      "  inflating: train/without_mask/augmented_image_149.jpg  \n",
      "  inflating: train/without_mask/augmented_image_150.jpg  \n",
      "  inflating: train/without_mask/augmented_image_151.jpg  \n",
      "  inflating: train/without_mask/augmented_image_152.jpg  \n",
      "  inflating: train/without_mask/augmented_image_153.jpg  \n",
      "  inflating: train/without_mask/augmented_image_154.jpg  \n",
      "  inflating: train/without_mask/augmented_image_155.jpg  \n",
      "  inflating: train/without_mask/augmented_image_156.jpg  \n",
      "  inflating: train/without_mask/augmented_image_157.jpg  \n",
      "  inflating: train/without_mask/augmented_image_158.jpg  \n",
      "  inflating: train/without_mask/augmented_image_16.jpg  \n",
      "  inflating: train/without_mask/augmented_image_160.jpg  \n",
      "  inflating: train/without_mask/augmented_image_161.jpg  \n",
      "  inflating: train/without_mask/augmented_image_162.jpg  \n",
      "  inflating: train/without_mask/augmented_image_163.jpg  \n",
      "  inflating: train/without_mask/augmented_image_164.jpg  \n",
      "  inflating: train/without_mask/augmented_image_165.jpg  \n",
      "  inflating: train/without_mask/augmented_image_166.jpg  \n",
      "  inflating: train/without_mask/augmented_image_168.jpg  \n",
      "  inflating: train/without_mask/augmented_image_169.jpg  \n",
      "  inflating: train/without_mask/augmented_image_17.jpg  \n",
      "  inflating: train/without_mask/augmented_image_170.jpg  \n",
      "  inflating: train/without_mask/augmented_image_171.jpg  \n",
      "  inflating: train/without_mask/augmented_image_172.jpg  \n",
      "  inflating: train/without_mask/augmented_image_173.jpg  \n",
      "  inflating: train/without_mask/augmented_image_174.jpg  \n",
      "  inflating: train/without_mask/augmented_image_175.jpg  \n",
      "  inflating: train/without_mask/augmented_image_176.jpg  \n",
      "  inflating: train/without_mask/augmented_image_177.jpg  \n",
      "  inflating: train/without_mask/augmented_image_178.jpg  \n",
      "  inflating: train/without_mask/augmented_image_179.jpg  \n",
      "  inflating: train/without_mask/augmented_image_18.jpg  \n",
      "  inflating: train/without_mask/augmented_image_180.jpg  \n",
      "  inflating: train/without_mask/augmented_image_181.jpg  \n",
      "  inflating: train/without_mask/augmented_image_182.jpg  \n",
      "  inflating: train/without_mask/augmented_image_183.jpg  \n",
      "  inflating: train/without_mask/augmented_image_184.jpg  \n",
      "  inflating: train/without_mask/augmented_image_185.jpg  \n",
      "  inflating: train/without_mask/augmented_image_186.jpg  \n",
      "  inflating: train/without_mask/augmented_image_187.jpg  \n",
      "  inflating: train/without_mask/augmented_image_188.jpg  \n",
      "  inflating: train/without_mask/augmented_image_189.jpg  \n",
      "  inflating: train/without_mask/augmented_image_19.jpg  \n",
      "  inflating: train/without_mask/augmented_image_191.jpg  \n",
      "  inflating: train/without_mask/augmented_image_192.jpg  \n",
      "  inflating: train/without_mask/augmented_image_193.jpg  \n",
      "  inflating: train/without_mask/augmented_image_194.jpg  \n",
      "  inflating: train/without_mask/augmented_image_196.jpg  \n",
      "  inflating: train/without_mask/augmented_image_197.jpg  \n",
      "  inflating: train/without_mask/augmented_image_198.jpg  \n",
      "  inflating: train/without_mask/augmented_image_199.jpg  \n",
      "  inflating: train/without_mask/augmented_image_2.jpg  \n",
      "  inflating: train/without_mask/augmented_image_20.jpg  \n",
      "  inflating: train/without_mask/augmented_image_200.jpg  \n",
      "  inflating: train/without_mask/augmented_image_201.jpg  \n",
      "  inflating: train/without_mask/augmented_image_202.jpg  \n",
      "  inflating: train/without_mask/augmented_image_203.jpg  \n",
      "  inflating: train/without_mask/augmented_image_204.jpg  \n",
      "  inflating: train/without_mask/augmented_image_205.jpg  \n",
      "  inflating: train/without_mask/augmented_image_206.jpg  \n",
      "  inflating: train/without_mask/augmented_image_207.jpg  \n",
      "  inflating: train/without_mask/augmented_image_208.jpg  \n",
      "  inflating: train/without_mask/augmented_image_209.jpg  \n",
      "  inflating: train/without_mask/augmented_image_21.jpg  \n",
      "  inflating: train/without_mask/augmented_image_210.jpg  \n",
      "  inflating: train/without_mask/augmented_image_211.jpg  \n",
      "  inflating: train/without_mask/augmented_image_214.jpg  \n",
      "  inflating: train/without_mask/augmented_image_215.jpg  \n",
      "  inflating: train/without_mask/augmented_image_216.jpg  \n",
      "  inflating: train/without_mask/augmented_image_219.jpg  \n",
      "  inflating: train/without_mask/augmented_image_22.jpg  \n",
      "  inflating: train/without_mask/augmented_image_220.jpg  \n",
      "  inflating: train/without_mask/augmented_image_221.jpg  \n",
      "  inflating: train/without_mask/augmented_image_222.jpg  \n",
      "  inflating: train/without_mask/augmented_image_223.jpg  \n",
      "  inflating: train/without_mask/augmented_image_224.jpg  \n",
      "  inflating: train/without_mask/augmented_image_225.jpg  \n",
      "  inflating: train/without_mask/augmented_image_226.jpg  \n",
      "  inflating: train/without_mask/augmented_image_227.jpg  \n",
      "  inflating: train/without_mask/augmented_image_229.jpg  \n",
      "  inflating: train/without_mask/augmented_image_23.jpg  \n",
      "  inflating: train/without_mask/augmented_image_230.jpg  \n",
      "  inflating: train/without_mask/augmented_image_231.jpg  \n",
      "  inflating: train/without_mask/augmented_image_232.jpg  \n",
      "  inflating: train/without_mask/augmented_image_233.jpg  \n",
      "  inflating: train/without_mask/augmented_image_234.jpg  \n",
      "  inflating: train/without_mask/augmented_image_235.jpg  \n",
      "  inflating: train/without_mask/augmented_image_236.jpg  \n",
      "  inflating: train/without_mask/augmented_image_237.jpg  \n",
      "  inflating: train/without_mask/augmented_image_238.jpg  \n",
      "  inflating: train/without_mask/augmented_image_239.jpg  \n",
      "  inflating: train/without_mask/augmented_image_240.jpg  \n",
      "  inflating: train/without_mask/augmented_image_241.jpg  \n",
      "  inflating: train/without_mask/augmented_image_243.jpg  \n",
      "  inflating: train/without_mask/augmented_image_244.jpg  \n",
      "  inflating: train/without_mask/augmented_image_245.jpg  \n",
      "  inflating: train/without_mask/augmented_image_246.jpg  \n",
      "  inflating: train/without_mask/augmented_image_249.jpg  \n",
      "  inflating: train/without_mask/augmented_image_25.jpg  \n",
      "  inflating: train/without_mask/augmented_image_250.jpg  \n",
      "  inflating: train/without_mask/augmented_image_251.jpg  \n",
      "  inflating: train/without_mask/augmented_image_252.jpg  \n",
      "  inflating: train/without_mask/augmented_image_253.jpg  \n",
      "  inflating: train/without_mask/augmented_image_254.jpg  \n",
      "  inflating: train/without_mask/augmented_image_255.jpg  \n",
      "  inflating: train/without_mask/augmented_image_256.jpg  \n",
      "  inflating: train/without_mask/augmented_image_257.jpg  \n",
      "  inflating: train/without_mask/augmented_image_258.jpg  \n",
      "  inflating: train/without_mask/augmented_image_260.jpg  \n",
      "  inflating: train/without_mask/augmented_image_262.jpg  \n",
      "  inflating: train/without_mask/augmented_image_263.jpg  \n",
      "  inflating: train/without_mask/augmented_image_265.jpg  \n",
      "  inflating: train/without_mask/augmented_image_266.jpg  \n",
      "  inflating: train/without_mask/augmented_image_267.jpg  \n",
      "  inflating: train/without_mask/augmented_image_269.jpg  \n",
      "  inflating: train/without_mask/augmented_image_27.jpg  \n",
      "  inflating: train/without_mask/augmented_image_270.jpg  \n",
      "  inflating: train/without_mask/augmented_image_271.jpg  \n",
      "  inflating: train/without_mask/augmented_image_272.jpg  \n",
      "  inflating: train/without_mask/augmented_image_273.jpg  \n",
      "  inflating: train/without_mask/augmented_image_275.jpg  \n",
      "  inflating: train/without_mask/augmented_image_276.jpg  \n",
      "  inflating: train/without_mask/augmented_image_277.jpg  \n",
      "  inflating: train/without_mask/augmented_image_278.jpg  \n",
      "  inflating: train/without_mask/augmented_image_279.jpg  \n",
      "  inflating: train/without_mask/augmented_image_280.jpg  \n",
      "  inflating: train/without_mask/augmented_image_281.jpg  \n",
      "  inflating: train/without_mask/augmented_image_282.jpg  \n",
      "  inflating: train/without_mask/augmented_image_283.jpg  \n",
      "  inflating: train/without_mask/augmented_image_284.jpg  \n",
      "  inflating: train/without_mask/augmented_image_285.jpg  \n",
      "  inflating: train/without_mask/augmented_image_286.jpg  \n",
      "  inflating: train/without_mask/augmented_image_287.jpg  \n",
      "  inflating: train/without_mask/augmented_image_290.jpg  \n",
      "  inflating: train/without_mask/augmented_image_291.jpg  \n",
      "  inflating: train/without_mask/augmented_image_292.jpg  \n",
      "  inflating: train/without_mask/augmented_image_293.jpg  \n",
      "  inflating: train/without_mask/augmented_image_294.jpg  \n",
      "  inflating: train/without_mask/augmented_image_295.jpg  \n",
      "  inflating: train/without_mask/augmented_image_296.jpg  \n",
      "  inflating: train/without_mask/augmented_image_297.jpg  \n",
      "  inflating: train/without_mask/augmented_image_298.jpg  \n",
      "  inflating: train/without_mask/augmented_image_299.jpg  \n",
      "  inflating: train/without_mask/augmented_image_3.jpg  \n",
      "  inflating: train/without_mask/augmented_image_30.jpg  \n",
      "  inflating: train/without_mask/augmented_image_301.jpg  \n",
      "  inflating: train/without_mask/augmented_image_302.jpg  \n",
      "  inflating: train/without_mask/augmented_image_303.jpg  \n",
      "  inflating: train/without_mask/augmented_image_304.jpg  \n",
      "  inflating: train/without_mask/augmented_image_305.jpg  \n",
      "  inflating: train/without_mask/augmented_image_306.jpg  \n",
      "  inflating: train/without_mask/augmented_image_307.jpg  \n",
      "  inflating: train/without_mask/augmented_image_308.jpg  \n",
      "  inflating: train/without_mask/augmented_image_309.jpg  \n",
      "  inflating: train/without_mask/augmented_image_31.jpg  \n",
      "  inflating: train/without_mask/augmented_image_310.jpg  \n",
      "  inflating: train/without_mask/augmented_image_311.jpg  \n",
      "  inflating: train/without_mask/augmented_image_312.jpg  \n",
      "  inflating: train/without_mask/augmented_image_314.jpg  \n",
      "  inflating: train/without_mask/augmented_image_315.jpg  \n",
      "  inflating: train/without_mask/augmented_image_316.jpg  \n",
      "  inflating: train/without_mask/augmented_image_317.jpg  \n",
      "  inflating: train/without_mask/augmented_image_318.jpg  \n",
      "  inflating: train/without_mask/augmented_image_319.jpg  \n",
      "  inflating: train/without_mask/augmented_image_32.jpg  \n",
      "  inflating: train/without_mask/augmented_image_33.jpg  \n",
      "  inflating: train/without_mask/augmented_image_35.jpg  \n",
      "  inflating: train/without_mask/augmented_image_36.jpg  \n",
      "  inflating: train/without_mask/augmented_image_37.jpg  \n",
      "  inflating: train/without_mask/augmented_image_38.jpg  \n",
      "  inflating: train/without_mask/augmented_image_39.jpg  \n",
      "  inflating: train/without_mask/augmented_image_4.jpg  \n",
      "  inflating: train/without_mask/augmented_image_40.jpg  \n",
      "  inflating: train/without_mask/augmented_image_41.jpg  \n",
      "  inflating: train/without_mask/augmented_image_42.jpg  \n",
      "  inflating: train/without_mask/augmented_image_43.jpg  \n",
      "  inflating: train/without_mask/augmented_image_44.jpg  \n",
      "  inflating: train/without_mask/augmented_image_45.jpg  \n",
      "  inflating: train/without_mask/augmented_image_48.jpg  \n",
      "  inflating: train/without_mask/augmented_image_5.jpg  \n",
      "  inflating: train/without_mask/augmented_image_50.jpg  \n",
      "  inflating: train/without_mask/augmented_image_51.jpg  \n",
      "  inflating: train/without_mask/augmented_image_52.jpg  \n",
      "  inflating: train/without_mask/augmented_image_53.jpg  \n",
      "  inflating: train/without_mask/augmented_image_54.jpg  \n",
      "  inflating: train/without_mask/augmented_image_55.jpg  \n",
      "  inflating: train/without_mask/augmented_image_56.jpg  \n",
      "  inflating: train/without_mask/augmented_image_57.jpg  \n",
      "  inflating: train/without_mask/augmented_image_58.jpg  \n",
      "  inflating: train/without_mask/augmented_image_59.jpg  \n",
      "  inflating: train/without_mask/augmented_image_60.jpg  \n",
      "  inflating: train/without_mask/augmented_image_61.jpg  \n",
      "  inflating: train/without_mask/augmented_image_62.jpg  \n",
      "  inflating: train/without_mask/augmented_image_63.jpg  \n",
      "  inflating: train/without_mask/augmented_image_64.jpg  \n",
      "  inflating: train/without_mask/augmented_image_65.jpg  \n",
      "  inflating: train/without_mask/augmented_image_66.jpg  \n",
      "  inflating: train/without_mask/augmented_image_67.jpg  \n",
      "  inflating: train/without_mask/augmented_image_68.jpg  \n",
      "  inflating: train/without_mask/augmented_image_69.jpg  \n",
      "  inflating: train/without_mask/augmented_image_7.jpg  \n",
      "  inflating: train/without_mask/augmented_image_70.jpg  \n",
      "  inflating: train/without_mask/augmented_image_71.jpg  \n",
      "  inflating: train/without_mask/augmented_image_72.jpg  \n",
      "  inflating: train/without_mask/augmented_image_73.jpg  \n",
      "  inflating: train/without_mask/augmented_image_74.jpg  \n",
      "  inflating: train/without_mask/augmented_image_76.jpg  \n",
      "  inflating: train/without_mask/augmented_image_77.jpg  \n",
      "  inflating: train/without_mask/augmented_image_78.jpg  \n",
      "  inflating: train/without_mask/augmented_image_79.jpg  \n",
      "  inflating: train/without_mask/augmented_image_80.jpg  \n",
      "  inflating: train/without_mask/augmented_image_81.jpg  \n",
      "  inflating: train/without_mask/augmented_image_82.jpg  \n",
      "  inflating: train/without_mask/augmented_image_83.jpg  \n",
      "  inflating: train/without_mask/augmented_image_84.jpg  \n",
      "  inflating: train/without_mask/augmented_image_85.jpg  \n",
      "  inflating: train/without_mask/augmented_image_86.jpg  \n",
      "  inflating: train/without_mask/augmented_image_87.jpg  \n",
      "  inflating: train/without_mask/augmented_image_88.jpg  \n",
      "  inflating: train/without_mask/augmented_image_89.jpg  \n",
      "  inflating: train/without_mask/augmented_image_90.jpg  \n",
      "  inflating: train/without_mask/augmented_image_91.jpg  \n",
      "  inflating: train/without_mask/augmented_image_92.jpg  \n",
      "  inflating: train/without_mask/augmented_image_93.jpg  \n",
      "  inflating: train/without_mask/augmented_image_94.jpg  \n",
      "  inflating: train/without_mask/augmented_image_95.jpg  \n",
      "  inflating: train/without_mask/augmented_image_96.jpg  \n",
      "  inflating: train/without_mask/augmented_image_97.jpg  \n",
      "  inflating: train/without_mask/augmented_image_98.jpg  \n",
      "  inflating: train/without_mask/augmented_image_99.jpg  \n",
      "  inflating: train/without_mask/balwinder-singh.jpg  \n",
      "  inflating: train/without_mask/c3b71140303552a6ed5715123ed6136d.jpg  \n",
      "  inflating: train/without_mask/cov-aish.jpg  \n",
      "  inflating: train/without_mask/depositphotos-142113624-stock-photo-smiling-indian-man-face.jpg  \n",
      "  inflating: train/without_mask/e07b269fb63ebcbfb125d8ad2325198e.jpg  \n",
      "  inflating: train/without_mask/f1e76e5e30e000461e6775bf7ce28aad.jpg  \n",
      "  inflating: train/without_mask/fc95de7bf6cbe26dec3bb4a44a499290.jpg  \n",
      "  inflating: train/without_mask/flag-face-painting-for-independence-day.jpeg  \n",
      "  inflating: train/without_mask/gettyimages-1138126908-1024x1024.jpg  \n",
      "  inflating: train/without_mask/gettyimages-1179627332-1024x1024.jpg  \n",
      "  inflating: train/without_mask/gettyimages-484288068-1024x1024.jpg  \n",
      "  inflating: train/without_mask/gettyimages-629077926-1024x1024.jpg  \n",
      "  inflating: train/without_mask/gettyimages-688893863-1024x1024.jpg  \n",
      "  inflating: train/without_mask/gettyimages-910391852-1024x1024.jpg  \n",
      "  inflating: train/without_mask/gettyimages-915227284-1024x1024.jpg  \n",
      "  inflating: train/without_mask/image-asset.jpeg  \n",
      "  inflating: train/without_mask/image.jpg  \n",
      " extracting: train/without_mask/indian-ethnicity-cheerful-confident-studio-260nw-552325924.jpg  \n",
      "  inflating: train/without_mask/indian-face-series-1536016.jpg  \n",
      "  inflating: train/without_mask/indian-faces-3548.JPG  \n",
      "  inflating: train/without_mask/maxresdefault.jpg  \n",
      "  inflating: train/without_mask/offset-322695.jpg  \n",
      "  inflating: train/without_mask/offset-870274.jpg  \n",
      "  inflating: train/without_mask/photo-1493106819501-66d381c466f1.jpeg  \n",
      "  inflating: train/without_mask/pm.jpg  \n",
      "  inflating: train/without_mask/pm1.jpg  \n",
      "  inflating: train/without_mask/pm2.jpg  \n",
      "  inflating: train/without_mask/pm3.jpg  \n",
      "  inflating: train/without_mask/short-hairstyles-for-indian-faces-406016-50-indian-hairstyle.jpg  \n",
      "  inflating: train/without_mask/short-hairstyles-for-indian-faces-406016-indian-hairstyle-me.jpg  \n",
      "  inflating: train/without_mask/top-50-best-faces.jpg  \n",
      "  inflating: train/without_mask/want-to-see-more-indian-faces-in-us-government-raj-mukherji.jpg  \n"
     ]
    }
   ],
   "source": [
    "!unzip /content/Dataset/train.zip"
   ]
  },
  {
   "cell_type": "code",
   "execution_count": 6,
   "metadata": {
    "colab": {
     "base_uri": "https://localhost:8080/"
    },
    "hidden": true,
    "id": "sU-AQX3RMRcq",
    "outputId": "babb4213-b1bd-4fef-fa61-380219c4f985",
    "slideshow": {
     "slide_type": "subslide"
    }
   },
   "outputs": [
    {
     "name": "stdout",
     "output_type": "stream",
     "text": [
      "Archive:  /content/Dataset/test.zip\n",
      "   creating: test/\n",
      "   creating: test/with_mask/\n",
      "  inflating: test/with_mask/1-with-mask.jpg  \n",
      "  inflating: test/with_mask/106-with-mask.jpg  \n",
      "  inflating: test/with_mask/11-with-mask.jpg  \n",
      "  inflating: test/with_mask/110-with-mask.jpg  \n",
      "  inflating: test/with_mask/111-with-mask.jpg  \n",
      "  inflating: test/with_mask/114-with-mask.jpg  \n",
      "  inflating: test/with_mask/121-with-mask.jpg  \n",
      "  inflating: test/with_mask/127-with-mask.jpg  \n",
      "  inflating: test/with_mask/141-with-mask.jpg  \n",
      "  inflating: test/with_mask/146-with-mask.jpg  \n",
      "  inflating: test/with_mask/157-with-mask.jpg  \n",
      "  inflating: test/with_mask/160-with-mask.jpg  \n",
      "  inflating: test/with_mask/165-with-mask.jpg  \n",
      "  inflating: test/with_mask/167-with-mask.jpg  \n",
      "  inflating: test/with_mask/174-with-mask.jpg  \n",
      "  inflating: test/with_mask/181-with-mask.jpg  \n",
      "  inflating: test/with_mask/184-with-mask.jpg  \n",
      "  inflating: test/with_mask/186-with-mask.jpg  \n",
      "  inflating: test/with_mask/193-with-mask.jpg  \n",
      "  inflating: test/with_mask/201-with-mask.jpg  \n",
      "  inflating: test/with_mask/204-with-mask.jpg  \n",
      "  inflating: test/with_mask/207-with-mask.jpg  \n",
      "  inflating: test/with_mask/211-with-mask.jpg  \n",
      "  inflating: test/with_mask/219-with-mask.jpg  \n",
      "  inflating: test/with_mask/229-with-mask.jpg  \n",
      "  inflating: test/with_mask/23-with-mask.jpg  \n",
      "  inflating: test/with_mask/243-with-mask.jpg  \n",
      "  inflating: test/with_mask/244-with-mask.jpg  \n",
      "  inflating: test/with_mask/25-with-mask.jpg  \n",
      "  inflating: test/with_mask/26-with-mask.jpg  \n",
      "  inflating: test/with_mask/262-with-mask.jpg  \n",
      "  inflating: test/with_mask/268-with-mask.jpg  \n",
      "  inflating: test/with_mask/278-with-mask.jpg  \n",
      "  inflating: test/with_mask/283-with-mask.jpg  \n",
      "  inflating: test/with_mask/285-with-mask.jpg  \n",
      "  inflating: test/with_mask/287-with-mask.jpg  \n",
      "  inflating: test/with_mask/295-with-mask.jpg  \n",
      "  inflating: test/with_mask/30-with-mask.jpg  \n",
      "  inflating: test/with_mask/303-with-mask.jpg  \n",
      "  inflating: test/with_mask/306-with-mask.jpg  \n",
      "  inflating: test/with_mask/307-with-mask.jpg  \n",
      "  inflating: test/with_mask/308-with-mask.jpg  \n",
      "  inflating: test/with_mask/316-with-mask.jpg  \n",
      "  inflating: test/with_mask/317-with-mask.jpg  \n",
      "  inflating: test/with_mask/318-with-mask.jpg  \n",
      "  inflating: test/with_mask/319-with-mask.jpg  \n",
      "  inflating: test/with_mask/325-with-mask.jpg  \n",
      "  inflating: test/with_mask/326-with-mask.jpg  \n",
      "  inflating: test/with_mask/332-with-mask.jpg  \n",
      "  inflating: test/with_mask/34-with-mask.jpg  \n",
      "  inflating: test/with_mask/340-with-mask.jpg  \n",
      "  inflating: test/with_mask/342-with-mask.jpg  \n",
      "  inflating: test/with_mask/344-with-mask.jpg  \n",
      "  inflating: test/with_mask/345-with-mask.jpg  \n",
      "  inflating: test/with_mask/357-with-mask.jpg  \n",
      "  inflating: test/with_mask/36-with-mask.jpg  \n",
      "  inflating: test/with_mask/362-with-mask.jpg  \n",
      "  inflating: test/with_mask/369-with-mask.jpg  \n",
      "  inflating: test/with_mask/374-with-mask.jpg  \n",
      "  inflating: test/with_mask/380-with-mask.jpg  \n",
      "  inflating: test/with_mask/382-with-mask.jpg  \n",
      "  inflating: test/with_mask/385-with-mask.jpg  \n",
      "  inflating: test/with_mask/391-with-mask.jpg  \n",
      "  inflating: test/with_mask/400-with-mask.jpg  \n",
      "  inflating: test/with_mask/402-with-mask.jpg  \n",
      "  inflating: test/with_mask/404-with-mask.jpg  \n",
      "  inflating: test/with_mask/409-with-mask.jpg  \n",
      "  inflating: test/with_mask/421-with-mask.jpg  \n",
      "  inflating: test/with_mask/427-with-mask.jpg  \n",
      "  inflating: test/with_mask/429-with-mask.jpg  \n",
      "  inflating: test/with_mask/430-with-mask.jpg  \n",
      "  inflating: test/with_mask/433-with-mask.jpg  \n",
      "  inflating: test/with_mask/440-with-mask.jpg  \n",
      "  inflating: test/with_mask/444-with-mask.jpg  \n",
      "  inflating: test/with_mask/448-with-mask.jpg  \n",
      "  inflating: test/with_mask/449-with-mask.jpg  \n",
      "  inflating: test/with_mask/450-with-mask.jpg  \n",
      "  inflating: test/with_mask/451-with-mask.jpg  \n",
      "  inflating: test/with_mask/452-with-mask.jpg  \n",
      "  inflating: test/with_mask/456-with-mask.jpg  \n",
      "  inflating: test/with_mask/462-with-mask.jpg  \n",
      "  inflating: test/with_mask/464-with-mask.jpg  \n",
      "  inflating: test/with_mask/472-with-mask.jpg  \n",
      "  inflating: test/with_mask/476-with-mask.jpg  \n",
      "  inflating: test/with_mask/48-with-mask.jpg  \n",
      "  inflating: test/with_mask/480-with-mask.jpg  \n",
      "  inflating: test/with_mask/49-with-mask.jpg  \n",
      "  inflating: test/with_mask/5-with-mask.jpg  \n",
      "  inflating: test/with_mask/51-with-mask.jpg  \n",
      "  inflating: test/with_mask/57-with-mask.jpg  \n",
      "  inflating: test/with_mask/62-with-mask.jpg  \n",
      "  inflating: test/with_mask/73-with-mask.jpg  \n",
      "  inflating: test/with_mask/78-with-mask.jpg  \n",
      "  inflating: test/with_mask/84-with-mask.jpg  \n",
      "  inflating: test/with_mask/85-with-mask.jpg  \n",
      "  inflating: test/with_mask/91-with-mask.jpg  \n",
      "  inflating: test/with_mask/98-with-mask.jpg  \n",
      "   creating: test/without_mask/\n",
      "  inflating: test/without_mask/0.jpg  \n",
      "  inflating: test/without_mask/10.jpg  \n",
      "  inflating: test/without_mask/11.jpg  \n",
      "  inflating: test/without_mask/116.jpg  \n",
      "  inflating: test/without_mask/117.jpg  \n",
      "  inflating: test/without_mask/122.jpg  \n",
      "  inflating: test/without_mask/129.jpg  \n",
      "  inflating: test/without_mask/133.jpg  \n",
      "  inflating: test/without_mask/134.jpg  \n",
      "  inflating: test/without_mask/143.jpg  \n",
      "  inflating: test/without_mask/148.jpg  \n",
      "  inflating: test/without_mask/159.jpg  \n",
      "  inflating: test/without_mask/161.jpg  \n",
      "  inflating: test/without_mask/166.jpg  \n",
      "  inflating: test/without_mask/168.jpg  \n",
      "  inflating: test/without_mask/173.jpg  \n",
      "  inflating: test/without_mask/174.jpg  \n",
      "  inflating: test/without_mask/177.jpg  \n",
      "  inflating: test/without_mask/179.jpg  \n",
      "  inflating: test/without_mask/184.jpg  \n",
      "  inflating: test/without_mask/193.jpg  \n",
      "  inflating: test/without_mask/198.jpg  \n",
      "  inflating: test/without_mask/201.jpg  \n",
      "  inflating: test/without_mask/208.jpg  \n",
      "  inflating: test/without_mask/218.jpg  \n",
      "  inflating: test/without_mask/231.jpg  \n",
      "  inflating: test/without_mask/232.jpg  \n",
      "  inflating: test/without_mask/237.jpg  \n",
      "  inflating: test/without_mask/255.jpg  \n",
      "  inflating: test/without_mask/26.jpg  \n",
      "  inflating: test/without_mask/261.jpg  \n",
      "  inflating: test/without_mask/262.jpg  \n",
      "  inflating: test/without_mask/270.jpg  \n",
      "  inflating: test/without_mask/276.jpg  \n",
      "  inflating: test/without_mask/282.jpg  \n",
      "  inflating: test/without_mask/284.jpg  \n",
      "  inflating: test/without_mask/295.jpg  \n",
      "  inflating: test/without_mask/298.jpg  \n",
      "  inflating: test/without_mask/30.jpg  \n",
      "  inflating: test/without_mask/300.jpg  \n",
      "  inflating: test/without_mask/301.jpg  \n",
      "  inflating: test/without_mask/307.jpg  \n",
      "  inflating: test/without_mask/31.jpg  \n",
      "  inflating: test/without_mask/310.jpg  \n",
      "  inflating: test/without_mask/311.jpg  \n",
      "  inflating: test/without_mask/312.jpg  \n",
      "  inflating: test/without_mask/318.jpg  \n",
      "  inflating: test/without_mask/319.jpg  \n",
      "  inflating: test/without_mask/324.jpg  \n",
      "  inflating: test/without_mask/331.jpg  \n",
      "  inflating: test/without_mask/332.jpg  \n",
      "  inflating: test/without_mask/334.jpg  \n",
      "  inflating: test/without_mask/336.jpg  \n",
      "  inflating: test/without_mask/337.jpg  \n",
      "  inflating: test/without_mask/341.jpg  \n",
      "  inflating: test/without_mask/344.jpg  \n",
      "  inflating: test/without_mask/353.jpg  \n",
      "  inflating: test/without_mask/362.jpg  \n",
      "  inflating: test/without_mask/368.jpg  \n",
      "  inflating: test/without_mask/37.jpg  \n",
      "  inflating: test/without_mask/378.jpg  \n",
      "  inflating: test/without_mask/384.jpg  \n",
      "  inflating: test/without_mask/39.jpg  \n",
      "  inflating: test/without_mask/391.jpg  \n",
      "  inflating: test/without_mask/399.jpg  \n",
      "  inflating: test/without_mask/401.jpg  \n",
      "  inflating: test/without_mask/408.jpg  \n",
      "  inflating: test/without_mask/409.jpg  \n",
      "  inflating: test/without_mask/410.jpg  \n",
      "  inflating: test/without_mask/415.jpg  \n",
      "  inflating: test/without_mask/427.jpg  \n",
      "  inflating: test/without_mask/432.jpg  \n",
      "  inflating: test/without_mask/434.jpg  \n",
      "  inflating: test/without_mask/436.jpg  \n",
      "  inflating: test/without_mask/440.jpg  \n",
      "  inflating: test/without_mask/444.jpg  \n",
      "  inflating: test/without_mask/446.jpg  \n",
      "  inflating: test/without_mask/447.jpg  \n",
      "  inflating: test/without_mask/448.jpg  \n",
      "  inflating: test/without_mask/451.jpg  \n",
      "  inflating: test/without_mask/457.jpg  \n",
      "  inflating: test/without_mask/459.jpg  \n",
      "  inflating: test/without_mask/466.jpg  \n",
      "  inflating: test/without_mask/469.jpg  \n",
      "  inflating: test/without_mask/477.jpg  \n",
      "  inflating: test/without_mask/51.jpg  \n",
      "  inflating: test/without_mask/54.jpg  \n",
      "  inflating: test/without_mask/58.jpg  \n",
      "  inflating: test/without_mask/59.jpg  \n",
      "  inflating: test/without_mask/61.jpg  \n",
      "  inflating: test/without_mask/62.jpg  \n",
      "  inflating: test/without_mask/64.jpg  \n",
      "  inflating: test/without_mask/74.jpg  \n",
      "  inflating: test/without_mask/79.jpg  \n",
      "  inflating: test/without_mask/89.jpg  \n",
      "  inflating: test/without_mask/93.jpg  \n",
      "  inflating: test/without_mask/99.jpg  \n"
     ]
    }
   ],
   "source": [
    "!unzip /content/Dataset/test.zip"
   ]
  },
  {
   "cell_type": "markdown",
   "metadata": {
    "heading_collapsed": true,
    "id": "kK4-35uaRyda",
    "slideshow": {
     "slide_type": "slide"
    }
   },
   "source": [
    "## Defining required functions"
   ]
  },
  {
   "cell_type": "code",
   "execution_count": 43,
   "metadata": {
    "ExecuteTime": {
     "end_time": "2021-05-20T17:47:14.278583Z",
     "start_time": "2021-05-20T17:47:14.271586Z"
    },
    "hidden": true,
    "id": "QQqiHxuWR2ak",
    "slideshow": {
     "slide_type": "subslide"
    }
   },
   "outputs": [],
   "source": [
    "def read_images(file_path):\n",
    "  x=[cv2.imread(file) for file in glob.glob(file_path+'/*.jpg')]\n",
    "  return x"
   ]
  },
  {
   "cell_type": "code",
   "execution_count": 44,
   "metadata": {
    "ExecuteTime": {
     "end_time": "2021-05-20T17:47:15.410362Z",
     "start_time": "2021-05-20T17:47:15.400363Z"
    },
    "hidden": true,
    "id": "Rdpv7zP9SDNk",
    "slideshow": {
     "slide_type": "subslide"
    }
   },
   "outputs": [],
   "source": [
    "def convert_img_to_pix(images):\n",
    "  x=[]\n",
    "  for i in range(len(images)):\n",
    "    images[i]=cv2.resize(images[i],(64,64))\n",
    "    a=[]\n",
    "    for j in range(len(images[i])):\n",
    "      for k in range(len(images[i][j])):\n",
    "        for l in images[i][j][k]:\n",
    "          a.append(l)\n",
    "    x.append(a)\n",
    "  return x"
   ]
  },
  {
   "cell_type": "markdown",
   "metadata": {
    "id": "UhFMRVBdT5VL",
    "slideshow": {
     "slide_type": "slide"
    }
   },
   "source": [
    "## Preprocessing"
   ]
  },
  {
   "cell_type": "code",
   "execution_count": 9,
   "metadata": {
    "id": "DPgNDwRIT6hL",
    "slideshow": {
     "slide_type": "subslide"
    }
   },
   "outputs": [],
   "source": [
    "train_masked=read_images('/content/train/with_mask')"
   ]
  },
  {
   "cell_type": "code",
   "execution_count": 45,
   "metadata": {
    "ExecuteTime": {
     "end_time": "2021-05-20T17:47:28.961812Z",
     "start_time": "2021-05-20T17:47:20.587808Z"
    },
    "slideshow": {
     "slide_type": "skip"
    }
   },
   "outputs": [],
   "source": [
    "train_masked=read_images('face-mask-dataset/Dataset/train/train/with_mask')"
   ]
  },
  {
   "cell_type": "code",
   "execution_count": 46,
   "metadata": {
    "ExecuteTime": {
     "end_time": "2021-05-20T17:47:41.106817Z",
     "start_time": "2021-05-20T17:47:30.517807Z"
    },
    "id": "eJLSNkl_UO4P",
    "slideshow": {
     "slide_type": "subslide"
    }
   },
   "outputs": [],
   "source": [
    "train_masked=convert_img_to_pix(train_masked)"
   ]
  },
  {
   "cell_type": "code",
   "execution_count": 11,
   "metadata": {
    "id": "PfNq3faMUb9I",
    "slideshow": {
     "slide_type": "subslide"
    }
   },
   "outputs": [],
   "source": [
    "train_unmasked=read_images('/content/train/without_mask')"
   ]
  },
  {
   "cell_type": "code",
   "execution_count": 47,
   "metadata": {
    "ExecuteTime": {
     "end_time": "2021-05-20T17:47:56.726541Z",
     "start_time": "2021-05-20T17:47:43.246544Z"
    },
    "slideshow": {
     "slide_type": "skip"
    }
   },
   "outputs": [],
   "source": [
    "train_unmasked=read_images('face-mask-dataset/Dataset/train/train/without_mask')"
   ]
  },
  {
   "cell_type": "code",
   "execution_count": 48,
   "metadata": {
    "ExecuteTime": {
     "end_time": "2021-05-20T17:48:10.855230Z",
     "start_time": "2021-05-20T17:47:58.333002Z"
    },
    "id": "FOTGazKhUi1s",
    "slideshow": {
     "slide_type": "subslide"
    }
   },
   "outputs": [],
   "source": [
    "train_unmasked=convert_img_to_pix(train_unmasked)"
   ]
  },
  {
   "cell_type": "code",
   "execution_count": 13,
   "metadata": {
    "id": "NixPYs9VUpfp",
    "slideshow": {
     "slide_type": "subslide"
    }
   },
   "outputs": [],
   "source": [
    "test_masked=read_images('/content/test/with_mask')"
   ]
  },
  {
   "cell_type": "code",
   "execution_count": 49,
   "metadata": {
    "ExecuteTime": {
     "end_time": "2021-05-20T17:48:14.057468Z",
     "start_time": "2021-05-20T17:48:12.545470Z"
    },
    "slideshow": {
     "slide_type": "skip"
    }
   },
   "outputs": [],
   "source": [
    "test_masked=read_images('face-mask-dataset/Dataset/test/test/with_mask')"
   ]
  },
  {
   "cell_type": "code",
   "execution_count": 50,
   "metadata": {
    "ExecuteTime": {
     "end_time": "2021-05-20T17:48:16.969626Z",
     "start_time": "2021-05-20T17:48:15.194626Z"
    },
    "id": "D4f2Q3ofUw0W",
    "slideshow": {
     "slide_type": "subslide"
    }
   },
   "outputs": [],
   "source": [
    "test_masked=convert_img_to_pix(test_masked)"
   ]
  },
  {
   "cell_type": "code",
   "execution_count": 15,
   "metadata": {
    "id": "eHTtJwaDU1QR",
    "slideshow": {
     "slide_type": "subslide"
    }
   },
   "outputs": [],
   "source": [
    "test_unmasked=read_images('/content/test/without_mask')"
   ]
  },
  {
   "cell_type": "code",
   "execution_count": 51,
   "metadata": {
    "ExecuteTime": {
     "end_time": "2021-05-20T17:48:21.056754Z",
     "start_time": "2021-05-20T17:48:19.190933Z"
    },
    "slideshow": {
     "slide_type": "skip"
    }
   },
   "outputs": [],
   "source": [
    "test_unmasked=read_images('face-mask-dataset/Dataset/test/test/without_mask')"
   ]
  },
  {
   "cell_type": "code",
   "execution_count": 52,
   "metadata": {
    "ExecuteTime": {
     "end_time": "2021-05-20T17:48:23.941740Z",
     "start_time": "2021-05-20T17:48:22.151740Z"
    },
    "id": "v0S8fet3U3lL",
    "slideshow": {
     "slide_type": "subslide"
    }
   },
   "outputs": [],
   "source": [
    "test_unmasked=convert_img_to_pix(test_unmasked)"
   ]
  },
  {
   "cell_type": "code",
   "execution_count": 53,
   "metadata": {
    "ExecuteTime": {
     "end_time": "2021-05-20T17:48:26.114295Z",
     "start_time": "2021-05-20T17:48:25.182796Z"
    },
    "id": "T6sroW9YU9t8",
    "slideshow": {
     "slide_type": "subslide"
    }
   },
   "outputs": [],
   "source": [
    "train=[]\n",
    "for i in range(0,len(train_masked)):\n",
    "  train.append(train_masked[i])\n",
    "for i in range(0,len(train_unmasked)):\n",
    "  train.append(train_unmasked[i])"
   ]
  },
  {
   "cell_type": "code",
   "execution_count": 54,
   "metadata": {
    "ExecuteTime": {
     "end_time": "2021-05-20T17:48:27.254296Z",
     "start_time": "2021-05-20T17:48:27.247296Z"
    },
    "id": "c0H_Xaq6VJPj",
    "slideshow": {
     "slide_type": "subslide"
    }
   },
   "outputs": [],
   "source": [
    "train_y=[]\n",
    "for i in range(0,len(train_masked)):\n",
    "  train_y.append(1)\n",
    "for i in range(0,len(train_unmasked)):\n",
    "  train_y.append(0)"
   ]
  },
  {
   "cell_type": "code",
   "execution_count": 55,
   "metadata": {
    "ExecuteTime": {
     "end_time": "2021-05-20T17:48:28.786788Z",
     "start_time": "2021-05-20T17:48:28.779791Z"
    },
    "id": "DVeh3ulvVPMQ",
    "slideshow": {
     "slide_type": "subslide"
    }
   },
   "outputs": [],
   "source": [
    "test=[]\n",
    "for i in range(0,len(test_masked)):\n",
    "  test.append(test_masked[i])\n",
    "for i in range(0,len(test_unmasked)):\n",
    "  test.append(test_unmasked[i])"
   ]
  },
  {
   "cell_type": "code",
   "execution_count": 56,
   "metadata": {
    "ExecuteTime": {
     "end_time": "2021-05-20T17:48:30.375727Z",
     "start_time": "2021-05-20T17:48:30.343726Z"
    },
    "id": "Bcc5l5PTVVME",
    "slideshow": {
     "slide_type": "subslide"
    }
   },
   "outputs": [],
   "source": [
    "test_y=[]\n",
    "for i in range(0,len(test_masked)):\n",
    "  test_y.append(1)\n",
    "for i in range(0,len(test_unmasked)):\n",
    "  test_y.append(0)"
   ]
  },
  {
   "cell_type": "code",
   "execution_count": 57,
   "metadata": {
    "ExecuteTime": {
     "end_time": "2021-05-20T17:48:32.557727Z",
     "start_time": "2021-05-20T17:48:32.440724Z"
    },
    "id": "21hdOQ8BVZM8",
    "slideshow": {
     "slide_type": "subslide"
    }
   },
   "outputs": [],
   "source": [
    "x_train=train\n",
    "y_train=np.array(train_y)\n",
    "x_test=test\n",
    "y_test=np.array(test_y)"
   ]
  },
  {
   "cell_type": "markdown",
   "metadata": {
    "id": "eWLPLPvPWCKa",
    "slideshow": {
     "slide_type": "slide"
    }
   },
   "source": [
    "## Classifiers"
   ]
  },
  {
   "cell_type": "code",
   "execution_count": 59,
   "metadata": {
    "ExecuteTime": {
     "end_time": "2021-05-20T17:49:55.131509Z",
     "start_time": "2021-05-20T17:49:19.601514Z"
    },
    "id": "pKDR_UdbVcac",
    "slideshow": {
     "slide_type": "subslide"
    }
   },
   "outputs": [],
   "source": [
    "from sklearn.svm import SVC\n",
    "svc = SVC().fit(x_train, y_train)\n",
    "y_predict=svc.predict(x_test)"
   ]
  },
  {
   "cell_type": "code",
   "execution_count": 60,
   "metadata": {
    "ExecuteTime": {
     "end_time": "2021-05-20T17:49:57.287741Z",
     "start_time": "2021-05-20T17:49:56.974791Z"
    },
    "colab": {
     "base_uri": "https://localhost:8080/"
    },
    "id": "EV816CTWZ25y",
    "outputId": "12b8d78e-c94b-48b7-9049-00de2092905e",
    "slideshow": {
     "slide_type": "subslide"
    }
   },
   "outputs": [
    {
     "name": "stdout",
     "output_type": "stream",
     "text": [
      "0.9123711340206185\n"
     ]
    }
   ],
   "source": [
    "from sklearn.metrics import accuracy_score\n",
    "print(accuracy_score(y_test,y_predict))"
   ]
  },
  {
   "cell_type": "code",
   "execution_count": 61,
   "metadata": {
    "ExecuteTime": {
     "end_time": "2021-05-20T17:50:23.057220Z",
     "start_time": "2021-05-20T17:50:01.426027Z"
    },
    "colab": {
     "base_uri": "https://localhost:8080/"
    },
    "id": "so2Pp3A3ZGeU",
    "outputId": "6ea12255-8c7d-4464-e4ef-637236c873d9",
    "slideshow": {
     "slide_type": "subslide"
    }
   },
   "outputs": [
    {
     "data": {
      "text/plain": [
       "0.9072164948453608"
      ]
     },
     "execution_count": 61,
     "metadata": {},
     "output_type": "execute_result"
    }
   ],
   "source": [
    "from sklearn.linear_model import LogisticRegression\n",
    "logir = LogisticRegression(max_iter=1500).fit(x_train, y_train)\n",
    "logir.score(x_test,y_test)"
   ]
  },
  {
   "cell_type": "code",
   "execution_count": 62,
   "metadata": {
    "ExecuteTime": {
     "end_time": "2021-05-20T17:50:32.065567Z",
     "start_time": "2021-05-20T17:50:27.223568Z"
    },
    "colab": {
     "base_uri": "https://localhost:8080/"
    },
    "id": "qwhRrscUaDfE",
    "outputId": "bd8dc689-a551-4416-8124-78111766b813",
    "slideshow": {
     "slide_type": "subslide"
    }
   },
   "outputs": [
    {
     "name": "stdout",
     "output_type": "stream",
     "text": [
      "0.4948453608247423\n"
     ]
    }
   ],
   "source": [
    "from sklearn.naive_bayes import BernoulliNB\n",
    "bernoullinb = BernoulliNB()\n",
    "bernoullinb.fit(x_train,y_train)\n",
    "y_predi=bernoullinb.predict(x_test)\n",
    "from sklearn.metrics import accuracy_score\n",
    "print(accuracy_score(y_test,y_predi))"
   ]
  },
  {
   "cell_type": "code",
   "execution_count": 63,
   "metadata": {
    "ExecuteTime": {
     "end_time": "2021-05-20T17:52:45.337858Z",
     "start_time": "2021-05-20T17:50:34.243323Z"
    },
    "colab": {
     "base_uri": "https://localhost:8080/"
    },
    "id": "Ca7Gm8lMaV9I",
    "outputId": "b1cb1556-58d8-4371-d8e4-069233e620c9",
    "slideshow": {
     "slide_type": "subslide"
    }
   },
   "outputs": [
    {
     "data": {
      "text/plain": [
       "array([0.92366412, 0.92337165, 0.95019157, 0.92720307, 0.89655172])"
      ]
     },
     "execution_count": 63,
     "metadata": {},
     "output_type": "execute_result"
    }
   ],
   "source": [
    "from sklearn.model_selection import cross_val_score\n",
    "crossvalscores = cross_val_score(svc, x_train, y_train,cv=5, scoring=\"accuracy\")\n",
    "crossvalscores"
   ]
  },
  {
   "cell_type": "code",
   "execution_count": 64,
   "metadata": {
    "ExecuteTime": {
     "end_time": "2021-05-20T17:52:48.479894Z",
     "start_time": "2021-05-20T17:52:48.458860Z"
    },
    "colab": {
     "base_uri": "https://localhost:8080/"
    },
    "id": "PFwW3LD2aV5v",
    "outputId": "bfcb5c6d-5438-4f55-f8a7-a50349e09d12",
    "slideshow": {
     "slide_type": "subslide"
    }
   },
   "outputs": [
    {
     "data": {
      "text/plain": [
       "0.9241964259600479"
      ]
     },
     "execution_count": 64,
     "metadata": {},
     "output_type": "execute_result"
    }
   ],
   "source": [
    "crossvalscores.mean()"
   ]
  },
  {
   "cell_type": "code",
   "execution_count": 65,
   "metadata": {
    "ExecuteTime": {
     "end_time": "2021-05-20T17:53:08.395813Z",
     "start_time": "2021-05-20T17:52:51.292811Z"
    },
    "colab": {
     "base_uri": "https://localhost:8080/"
    },
    "id": "bGq8mQP_a0Gl",
    "outputId": "d3b17b32-fdf6-4732-8356-bc2c6a9e52e8",
    "slideshow": {
     "slide_type": "subslide"
    }
   },
   "outputs": [
    {
     "data": {
      "text/plain": [
       "array([0.52671756, 0.53639847, 0.52490421, 0.46360153, 0.52873563])"
      ]
     },
     "execution_count": 65,
     "metadata": {},
     "output_type": "execute_result"
    }
   ],
   "source": [
    "from sklearn.model_selection import cross_val_score\n",
    "cv_scores = cross_val_score(bernoullinb, x_train, y_train,cv=5, scoring=\"accuracy\")\n",
    "cv_scores"
   ]
  },
  {
   "cell_type": "code",
   "execution_count": 66,
   "metadata": {
    "ExecuteTime": {
     "end_time": "2021-05-20T17:53:10.724815Z",
     "start_time": "2021-05-20T17:53:10.718810Z"
    },
    "colab": {
     "base_uri": "https://localhost:8080/"
    },
    "id": "eBmUNqi8a3WB",
    "outputId": "a4e68415-cfa4-4ecb-c697-742782a07b48",
    "slideshow": {
     "slide_type": "subslide"
    }
   },
   "outputs": [
    {
     "data": {
      "text/plain": [
       "0.5160714807990406"
      ]
     },
     "execution_count": 66,
     "metadata": {},
     "output_type": "execute_result"
    }
   ],
   "source": [
    "cv_scores.mean()"
   ]
  },
  {
   "cell_type": "code",
   "execution_count": 67,
   "metadata": {
    "ExecuteTime": {
     "end_time": "2021-05-20T17:54:38.861752Z",
     "start_time": "2021-05-20T17:53:12.954813Z"
    },
    "colab": {
     "base_uri": "https://localhost:8080/"
    },
    "id": "fbRZD2F7aVeo",
    "outputId": "36a7d0a8-baed-4406-a859-5652ab3d84ab",
    "slideshow": {
     "slide_type": "subslide"
    }
   },
   "outputs": [
    {
     "data": {
      "text/plain": [
       "array([0.95801527, 0.90421456, 0.96551724, 0.98084291, 0.91570881])"
      ]
     },
     "execution_count": 67,
     "metadata": {},
     "output_type": "execute_result"
    }
   ],
   "source": [
    "from sklearn.model_selection import cross_val_score\n",
    "crossvalscores2 = cross_val_score(logir, x_train, y_train,cv=5, scoring=\"accuracy\")\n",
    "crossvalscores2"
   ]
  },
  {
   "cell_type": "code",
   "execution_count": 68,
   "metadata": {
    "ExecuteTime": {
     "end_time": "2021-05-20T17:54:40.676752Z",
     "start_time": "2021-05-20T17:54:40.668753Z"
    },
    "colab": {
     "base_uri": "https://localhost:8080/"
    },
    "id": "xuUu43UIa50n",
    "outputId": "d473364f-ad26-4fb8-d802-dae069ba22ed",
    "slideshow": {
     "slide_type": "subslide"
    }
   },
   "outputs": [
    {
     "data": {
      "text/plain": [
       "0.9448597584159574"
      ]
     },
     "execution_count": 68,
     "metadata": {},
     "output_type": "execute_result"
    }
   ],
   "source": [
    "crossvalscores2.mean()"
   ]
  },
  {
   "cell_type": "markdown",
   "metadata": {
    "slideshow": {
     "slide_type": "slide"
    }
   },
   "source": [
    "## Testing with a real image"
   ]
  },
  {
   "attachments": {
    "0_0_0.jpg": {
     "image/jpeg": "[encoded data removed]"
    }
   },
   "cell_type": "markdown",
   "metadata": {
    "slideshow": {
     "slide_type": "slide"
    }
   },
   "source": [
    "![0_0_0.jpg](attachment:0_0_0.jpg)"
   ]
  },
  {
   "attachments": {
    "0_0_1.jpg": {
     "image/jpeg": "[encoded data removed]"
    }
   },
   "cell_type": "markdown",
   "metadata": {
    "slideshow": {
     "slide_type": "slide"
    }
   },
   "source": [
    "![0_0_1.jpg](attachment:0_0_1.jpg)"
   ]
  },
  {
   "attachments": {
    "0_0_27.jpg": {
     "image/jpeg": "[encoded data removed]"
    }
   },
   "cell_type": "markdown",
   "metadata": {
    "slideshow": {
     "slide_type": "slide"
    }
   },
   "source": [
    "![0_0_27.jpg](attachment:0_0_27.jpg)"
   ]
  },
  {
   "attachments": {
    "1_0_aidai_0159.jpg": {
     "image/jpeg": "[encoded data removed]"
    }
   },
   "cell_type": "markdown",
   "metadata": {
    "slideshow": {
     "slide_type": "slide"
    }
   },
   "source": [
    "![1_0_aidai_0159.jpg](attachment:1_0_aidai_0159.jpg)"
   ]
  },
  {
   "attachments": {
    "1_0_anhu_0079.jpg": {
     "image/jpeg": "[encoded data removed]"
    }
   },
   "cell_type": "markdown",
   "metadata": {
    "slideshow": {
     "slide_type": "slide"
    }
   },
   "source": [
    "![1_0_anhu_0079.jpg](attachment:1_0_anhu_0079.jpg)"
   ]
  },
  {
   "cell_type": "code",
   "execution_count": 74,
   "metadata": {
    "ExecuteTime": {
     "end_time": "2021-05-20T18:03:16.974838Z",
     "start_time": "2021-05-20T18:03:16.803837Z"
    },
    "slideshow": {
     "slide_type": "subslide"
    }
   },
   "outputs": [],
   "source": [
    "real_x_test=read_images('Minor_project_testing')\n",
    "real_x_test=convert_img_to_pix(real_x_test)"
   ]
  },
  {
   "cell_type": "code",
   "execution_count": 75,
   "metadata": {
    "ExecuteTime": {
     "end_time": "2021-05-20T18:03:17.959770Z",
     "start_time": "2021-05-20T18:03:17.864802Z"
    },
    "slideshow": {
     "slide_type": "subslide"
    }
   },
   "outputs": [
    {
     "data": {
      "text/plain": [
       "array([1, 1, 1, 0, 0])"
      ]
     },
     "execution_count": 75,
     "metadata": {},
     "output_type": "execute_result"
    }
   ],
   "source": [
    "svc.predict(real_x_test)"
   ]
  },
  {
   "cell_type": "code",
   "execution_count": 76,
   "metadata": {
    "ExecuteTime": {
     "end_time": "2021-05-20T18:03:19.362769Z",
     "start_time": "2021-05-20T18:03:19.316774Z"
    },
    "slideshow": {
     "slide_type": "subslide"
    }
   },
   "outputs": [
    {
     "data": {
      "text/plain": [
       "array([1, 1, 1, 1, 0])"
      ]
     },
     "execution_count": 76,
     "metadata": {},
     "output_type": "execute_result"
    }
   ],
   "source": [
    "logir.predict(real_x_test)"
   ]
  },
  {
   "cell_type": "code",
   "execution_count": 77,
   "metadata": {
    "ExecuteTime": {
     "end_time": "2021-05-20T18:03:20.664766Z",
     "start_time": "2021-05-20T18:03:20.640767Z"
    },
    "slideshow": {
     "slide_type": "subslide"
    }
   },
   "outputs": [
    {
     "data": {
      "text/plain": [
       "array([1, 1, 1, 1, 1])"
      ]
     },
     "execution_count": 77,
     "metadata": {},
     "output_type": "execute_result"
    }
   ],
   "source": [
    "bernoullinb.predict(real_x_test)"
   ]
  }
 ],
 "metadata": {
  "celltoolbar": "Slideshow",
  "colab": {
   "collapsed_sections": [
    "_fgrAxT6RlHD",
    "kL2oNG1sP06E",
    "Ydht9tUIP3jG",
    "kK4-35uaRyda",
    "UhFMRVBdT5VL",
    "eWLPLPvPWCKa"
   ],
   "name": "B19CSE081_B19CSE082_.ipynb",
   "provenance": []
  },
  "hide_input": false,
  "kernelspec": {
   "display_name": "Python 3",
   "language": "python",
   "name": "python3"
  },
  "language_info": {
   "codemirror_mode": {
    "name": "ipython",
    "version": 3
   },
   "file_extension": ".py",
   "mimetype": "text/x-python",
   "name": "python",
   "nbconvert_exporter": "python",
   "pygments_lexer": "ipython3",
   "version": "3.8.5"
  },
  "toc": {
   "base_numbering": 1,
   "nav_menu": {},
   "number_sections": true,
   "sideBar": true,
   "skip_h1_title": false,
   "title_cell": "Table of Contents",
   "title_sidebar": "Contents",
   "toc_cell": false,
   "toc_position": {},
   "toc_section_display": true,
   "toc_window_display": false
  }
 },
 "nbformat": 4,
 "nbformat_minor": 1
}
